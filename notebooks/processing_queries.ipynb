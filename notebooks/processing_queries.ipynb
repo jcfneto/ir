{
 "cells": [
  {
   "cell_type": "markdown",
   "id": "fb9fb8fe",
   "metadata": {},
   "source": [
    "# 1. Processing"
   ]
  },
  {
   "cell_type": "code",
   "execution_count": 1,
   "id": "ec84e354",
   "metadata": {
    "ExecuteTime": {
     "end_time": "2022-09-25T18:49:07.323123Z",
     "start_time": "2022-09-25T18:49:06.918653Z"
    }
   },
   "outputs": [],
   "source": [
    "import re\n",
    "import json\n",
    "import utils\n",
    "\n",
    "from nltk.corpus import stopwords\n",
    "from nltk import word_tokenize\n",
    "\n",
    "from collections import defaultdict"
   ]
  },
  {
   "cell_type": "code",
   "execution_count": 2,
   "id": "c32ee8e1",
   "metadata": {
    "ExecuteTime": {
     "end_time": "2022-09-25T18:49:07.326559Z",
     "start_time": "2022-09-25T18:49:07.324063Z"
    }
   },
   "outputs": [],
   "source": [
    "# reading the query file\n",
    "file = open('../cfc/queries/cfquery', 'r').readlines()"
   ]
  },
  {
   "cell_type": "code",
   "execution_count": 3,
   "id": "d1b950be",
   "metadata": {
    "ExecuteTime": {
     "end_time": "2022-09-25T18:49:07.333209Z",
     "start_time": "2022-09-25T18:49:07.328836Z"
    }
   },
   "outputs": [],
   "source": [
    "# english stopwords\n",
    "en_stopwords = set(stopwords.words('english'))"
   ]
  },
  {
   "cell_type": "code",
   "execution_count": 4,
   "id": "5b990040",
   "metadata": {
    "ExecuteTime": {
     "end_time": "2022-09-25T18:49:07.355022Z",
     "start_time": "2022-09-25T18:49:07.334219Z"
    }
   },
   "outputs": [],
   "source": [
    "# dict to store queries and relavant docs\n",
    "queries = defaultdict(str)\n",
    "queries_wo_stopwords = defaultdict(str)\n",
    "relevant_docs = defaultdict(str)\n",
    "\n",
    "# processing\n",
    "queries = utils.split_join(file, queries, 'QN', ('NR'))\n",
    "\n",
    "# spliting the queries and relavant docs\n",
    "pattern = r'[^\\w\\s]'\n",
    "for q in queries.keys():\n",
    "    \n",
    "    # removing punctuation and multiples whitespaces\n",
    "    q_rd = [re.sub(pattern, '', s) for s in queries[q].split(' RD ')]\n",
    "    q_rd = [re.sub(' +', ' ', s) for s in q_rd]\n",
    "    \n",
    "    # saving queries and rel. docs\n",
    "    relevant_docs[q] = [int(d) for d in q_rd[-1][1:-1].split(' ')[0::2]]\n",
    "    queries[q] = q_rd[0].split(' QU ')[-1]\n",
    "    words = word_tokenize(queries[q])\n",
    "    queries_wo_stopwords[q] = ' '.join([word for word in words if word not in en_stopwords])"
   ]
  },
  {
   "cell_type": "code",
   "execution_count": 5,
   "id": "a1304df9",
   "metadata": {
    "ExecuteTime": {
     "end_time": "2022-09-25T18:49:07.362324Z",
     "start_time": "2022-09-25T18:49:07.355996Z"
    }
   },
   "outputs": [
    {
     "data": {
      "text/plain": "'What are the effects of calcium on the physical properties of mucus from CF patients '"
     },
     "execution_count": 5,
     "metadata": {},
     "output_type": "execute_result"
    }
   ],
   "source": [
    "# query\n",
    "queries['00001']"
   ]
  },
  {
   "cell_type": "code",
   "execution_count": 6,
   "id": "03a0ef25",
   "metadata": {
    "ExecuteTime": {
     "end_time": "2022-09-25T18:49:07.367587Z",
     "start_time": "2022-09-25T18:49:07.363070Z"
    }
   },
   "outputs": [
    {
     "data": {
      "text/plain": "'What effects calcium physical properties mucus CF patients'"
     },
     "execution_count": 6,
     "metadata": {},
     "output_type": "execute_result"
    }
   ],
   "source": [
    "# query with the stopwords removed\n",
    "queries_wo_stopwords['00001']"
   ]
  },
  {
   "cell_type": "code",
   "execution_count": 7,
   "id": "cba0df8c",
   "metadata": {
    "ExecuteTime": {
     "end_time": "2022-09-25T18:49:07.375319Z",
     "start_time": "2022-09-25T18:49:07.368313Z"
    }
   },
   "outputs": [],
   "source": [
    "# saving into json file\n",
    "to_save = [(queries, 'queries'), \n",
    "           (queries_wo_stopwords, 'queries_wo_stopwords'), \n",
    "           (relevant_docs, 'relevant_docs')]\n",
    "\n",
    "for d, n in to_save:\n",
    "    with open(f\"../outputs/{n}.json\", \"w\") as outfile:\n",
    "        json.dump(d, outfile)"
   ]
  }
 ],
 "metadata": {
  "hide_input": false,
  "kernelspec": {
   "display_name": "Python 3 (ipykernel)",
   "language": "python",
   "name": "python3"
  },
  "language_info": {
   "codemirror_mode": {
    "name": "ipython",
    "version": 3
   },
   "file_extension": ".py",
   "mimetype": "text/x-python",
   "name": "python",
   "nbconvert_exporter": "python",
   "pygments_lexer": "ipython3",
   "version": "3.9.7"
  }
 },
 "nbformat": 4,
 "nbformat_minor": 5
}