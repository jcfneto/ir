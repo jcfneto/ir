{
 "cells": [
  {
   "cell_type": "markdown",
   "id": "d1b191b2",
   "metadata": {
    "heading_collapsed": true
   },
   "source": [
    "# 2. Embedding"
   ]
  },
  {
   "cell_type": "code",
   "execution_count": 1,
   "id": "ee9f076f",
   "metadata": {
    "ExecuteTime": {
     "end_time": "2022-09-28T18:04:31.269075Z",
     "start_time": "2022-09-28T18:04:29.551939Z"
    },
    "hidden": true,
    "pycharm": {
     "is_executing": true
    }
   },
   "outputs": [],
   "source": [
    "import json\n",
    "import utils\n",
    "import faiss\n",
    "\n",
    "import numpy as np\n",
    "\n",
    "from sklearn.feature_extraction.text import TfidfVectorizer\n",
    "\n",
    "from sentence_transformers import SentenceTransformer"
   ]
  },
  {
   "cell_type": "code",
   "execution_count": 2,
   "id": "e2cdde8a",
   "metadata": {
    "ExecuteTime": {
     "end_time": "2022-09-28T18:04:31.274623Z",
     "start_time": "2022-09-28T18:04:31.270077Z"
    },
    "hidden": true,
    "pycharm": {
     "name": "#%%\n"
    }
   },
   "outputs": [],
   "source": [
    "import warnings\n",
    "warnings.filterwarnings('ignore')"
   ]
  },
  {
   "cell_type": "code",
   "execution_count": 3,
   "id": "91684093",
   "metadata": {
    "ExecuteTime": {
     "end_time": "2022-09-28T18:04:31.289784Z",
     "start_time": "2022-09-28T18:04:31.276155Z"
    },
    "hidden": true
   },
   "outputs": [],
   "source": [
    "# reading docs\n",
    "documents = json.load(open('../outputs/preprocessed.json'))\n",
    "documents_wo_sw = json.load(open('../outputs/preprocessed_wo_stopwords.json'))"
   ]
  },
  {
   "cell_type": "markdown",
   "id": "492e3086",
   "metadata": {
    "heading_collapsed": true,
    "hidden": true
   },
   "source": [
    "## 2.1 TF-IDF"
   ]
  },
  {
   "cell_type": "code",
   "execution_count": 4,
   "id": "8dd66eb1",
   "metadata": {
    "ExecuteTime": {
     "end_time": "2022-09-28T18:04:31.563604Z",
     "start_time": "2022-09-28T18:04:31.290618Z"
    },
    "hidden": true
   },
   "outputs": [
    {
     "data": {
      "text/plain": [
       "(1239, 13171)"
      ]
     },
     "execution_count": 4,
     "metadata": {},
     "output_type": "execute_result"
    }
   ],
   "source": [
    "# building word embedding based on tf-idf\n",
    "vectorizer = TfidfVectorizer(norm='l2')\n",
    "tfidf_transformer = vectorizer.fit(documents.values())\n",
    "tfidf = tfidf_transformer.transform(documents.values()).toarray()\n",
    "tfidf.shape"
   ]
  },
  {
   "cell_type": "code",
   "execution_count": 5,
   "id": "6c96f01b",
   "metadata": {
    "ExecuteTime": {
     "end_time": "2022-09-28T18:04:31.789470Z",
     "start_time": "2022-09-28T18:04:31.564349Z"
    },
    "hidden": true
   },
   "outputs": [
    {
     "data": {
      "text/plain": [
       "(1239, 13141)"
      ]
     },
     "execution_count": 5,
     "metadata": {},
     "output_type": "execute_result"
    }
   ],
   "source": [
    "# building word embedding based on tf-idf\n",
    "vectorizer = TfidfVectorizer(norm='l2')\n",
    "tfidf_transformer_wo_sw = vectorizer.fit(documents_wo_sw.values())\n",
    "tfidf_wo_sw = tfidf_transformer_wo_sw.transform(documents_wo_sw.values()).toarray()\n",
    "tfidf_wo_sw.shape"
   ]
  },
  {
   "cell_type": "markdown",
   "id": "20627100",
   "metadata": {
    "heading_collapsed": true,
    "hidden": true
   },
   "source": [
    "## 2.2 BERTsentece"
   ]
  },
  {
   "cell_type": "code",
   "execution_count": 6,
   "id": "7662811c",
   "metadata": {
    "ExecuteTime": {
     "end_time": "2022-09-28T18:04:32.634557Z",
     "start_time": "2022-09-28T18:04:31.790523Z"
    },
    "hidden": true
   },
   "outputs": [
    {
     "data": {
      "text/plain": [
       "512"
      ]
     },
     "execution_count": 6,
     "metadata": {},
     "output_type": "execute_result"
    }
   ],
   "source": [
    "# changing the max words of the model (default == 512)\n",
    "model = SentenceTransformer('multi-qa-mpnet-base-dot-v1')\n",
    "model.max_seq_length"
   ]
  },
  {
   "cell_type": "code",
   "execution_count": 7,
   "id": "0f184e0d",
   "metadata": {
    "ExecuteTime": {
     "end_time": "2022-09-28T18:05:53.247624Z",
     "start_time": "2022-09-28T18:04:32.636087Z"
    },
    "hidden": true
   },
   "outputs": [
    {
     "data": {
      "text/plain": [
       "((1239, 768), (1239, 768))"
      ]
     },
     "execution_count": 7,
     "metadata": {},
     "output_type": "execute_result"
    }
   ],
   "source": [
    "# building word embedding based on BERT model\n",
    "bert = model.encode(list(documents.values()))\n",
    "bert_wo_sw = model.encode(list(documents_wo_sw.values()))\n",
    "bert.shape, bert_wo_sw.shape"
   ]
  },
  {
   "cell_type": "markdown",
   "id": "8ca1539a",
   "metadata": {
    "heading_collapsed": true,
    "hidden": true
   },
   "source": [
    "## 2.3 Queries"
   ]
  },
  {
   "cell_type": "code",
   "execution_count": 8,
   "id": "494cd6f7",
   "metadata": {
    "ExecuteTime": {
     "end_time": "2022-09-28T18:05:53.251409Z",
     "start_time": "2022-09-28T18:05:53.248446Z"
    },
    "hidden": true
   },
   "outputs": [],
   "source": [
    "# reading queries and rel. docs\n",
    "queries = json.load(open('../outputs/queries.json'))\n",
    "queries_wo_sw = json.load(open('../outputs/queries_wo_stopwords.json'))\n",
    "rel_docs = json.load(open('../outputs/relevant_docs.json'))"
   ]
  },
  {
   "cell_type": "code",
   "execution_count": 9,
   "id": "971b23d1",
   "metadata": {
    "ExecuteTime": {
     "end_time": "2022-09-28T18:05:55.029403Z",
     "start_time": "2022-09-28T18:05:53.252285Z"
    },
    "hidden": true
   },
   "outputs": [],
   "source": [
    "# converting the queries\n",
    "queries = utils.convert_queries(queries, model, tfidf_transformer)\n",
    "queries_wo_sw = utils.convert_queries(queries_wo_sw, model, tfidf_transformer_wo_sw)"
   ]
  },
  {
   "cell_type": "markdown",
   "id": "c6d2c2c9",
   "metadata": {
    "heading_collapsed": true
   },
   "source": [
    "# 3. Index"
   ]
  },
  {
   "cell_type": "code",
   "execution_count": 10,
   "id": "cc58bed4",
   "metadata": {
    "ExecuteTime": {
     "end_time": "2022-09-28T18:05:55.032884Z",
     "start_time": "2022-09-28T18:05:55.030308Z"
    },
    "hidden": true
   },
   "outputs": [],
   "source": [
    "# number of documents to be returned in queries\n",
    "k = int(np.mean([len(r) for r in rel_docs.values()]))\n",
    "\n",
    "# collection and queries size\n",
    "collection_size = len(documents.values())\n",
    "n_queries = len(queries.items())\n",
    "\n",
    "# threshold for reciprocal rank\n",
    "threshold = 5"
   ]
  },
  {
   "cell_type": "code",
   "execution_count": 11,
   "id": "35399adb",
   "metadata": {
    "ExecuteTime": {
     "end_time": "2022-09-28T18:05:55.040841Z",
     "start_time": "2022-09-28T18:05:55.033758Z"
    },
    "hidden": true
   },
   "outputs": [
    {
     "data": {
      "text/plain": [
       "(48, 1239, 100)"
      ]
     },
     "execution_count": 11,
     "metadata": {},
     "output_type": "execute_result"
    }
   ],
   "source": [
    "# checking\n",
    "k, collection_size, n_queries"
   ]
  },
  {
   "cell_type": "markdown",
   "id": "3f75027f",
   "metadata": {
    "heading_collapsed": true,
    "hidden": true
   },
   "source": [
    "## 3.1 Documents without preprocessing"
   ]
  },
  {
   "cell_type": "markdown",
   "id": "b8f77978",
   "metadata": {
    "heading_collapsed": true,
    "hidden": true
   },
   "source": [
    "### 3.1.1 Flat"
   ]
  },
  {
   "cell_type": "markdown",
   "id": "b0e435a1",
   "metadata": {
    "heading_collapsed": true,
    "hidden": true
   },
   "source": [
    "#### 3.1.1.1 Bert"
   ]
  },
  {
   "cell_type": "code",
   "execution_count": 12,
   "id": "a7cd4bef",
   "metadata": {
    "ExecuteTime": {
     "end_time": "2022-09-28T18:05:55.053913Z",
     "start_time": "2022-09-28T18:05:55.043326Z"
    },
    "hidden": true
   },
   "outputs": [],
   "source": [
    "# normalizing the embeddings\n",
    "bert_normalized = bert.copy()\n",
    "faiss.normalize_L2(bert_normalized)"
   ]
  },
  {
   "cell_type": "code",
   "execution_count": 13,
   "id": "4541c4f2",
   "metadata": {
    "ExecuteTime": {
     "end_time": "2022-09-28T18:05:55.058133Z",
     "start_time": "2022-09-28T18:05:55.054783Z"
    },
    "hidden": true
   },
   "outputs": [],
   "source": [
    "# builds the index\n",
    "idx_flat_bert = utils.index_flat(bert_normalized)"
   ]
  },
  {
   "cell_type": "code",
   "execution_count": 14,
   "id": "90dcdf2e",
   "metadata": {
    "ExecuteTime": {
     "end_time": "2022-09-28T18:05:55.202427Z",
     "start_time": "2022-09-28T18:05:55.059232Z"
    },
    "hidden": true
   },
   "outputs": [
    {
     "name": "stdout",
     "output_type": "stream",
     "text": [
      "1/100\r",
      "2/100\r",
      "3/100\r",
      "4/100\r",
      "5/100\r",
      "6/100\r",
      "7/100\r",
      "8/100\r",
      "9/100\r",
      "10/100\r",
      "11/100\r",
      "12/100\r",
      "13/100\r",
      "14/100\r",
      "15/100\r",
      "16/100\r",
      "17/100\r",
      "18/100\r",
      "19/100\r",
      "20/100\r",
      "21/100\r",
      "22/100\r",
      "23/100\r",
      "24/100\r",
      "25/100\r",
      "26/100\r",
      "27/100\r",
      "28/100\r",
      "29/100\r",
      "30/100\r",
      "31/100\r",
      "32/100\r",
      "33/100\r",
      "34/100\r",
      "35/100\r",
      "36/100\r",
      "37/100\r",
      "38/100\r",
      "39/100\r",
      "40/100\r",
      "41/100\r",
      "42/100\r",
      "43/100\r",
      "44/100\r",
      "45/100\r",
      "46/100\r",
      "47/100\r",
      "48/100\r",
      "49/100\r",
      "50/100\r",
      "51/100\r",
      "52/100\r",
      "53/100\r",
      "54/100\r",
      "55/100\r",
      "56/100\r",
      "57/100\r",
      "58/100\r",
      "59/100\r",
      "60/100\r",
      "61/100\r",
      "62/100\r",
      "63/100\r",
      "64/100\r",
      "65/100\r",
      "66/100\r",
      "67/100\r",
      "68/100\r",
      "69/100\r",
      "70/100\r",
      "71/100\r",
      "72/100\r",
      "73/100\r",
      "74/100\r",
      "75/100\r",
      "76/100\r",
      "77/100\r",
      "78/100\r",
      "79/100\r",
      "80/100\r",
      "81/100\r",
      "82/100\r",
      "83/100\r",
      "84/100\r",
      "85/100\r",
      "86/100\r",
      "87/100\r",
      "88/100\r",
      "89/100\r",
      "90/100\r",
      "91/100\r",
      "92/100\r",
      "93/100\r",
      "94/100\r",
      "95/100\r",
      "96/100\r",
      "97/100\r",
      "98/100\r",
      "99/100\r",
      "100/100\r"
     ]
    }
   ],
   "source": [
    "# doing the queries\n",
    "flat_bert_results = utils.search(idx_flat_bert, k, 'embedding', queries, rel_docs, collection_size, threshold)"
   ]
  },
  {
   "cell_type": "code",
   "execution_count": 15,
   "id": "2c5a6d04",
   "metadata": {
    "ExecuteTime": {
     "end_time": "2022-09-28T18:05:55.206886Z",
     "start_time": "2022-09-28T18:05:55.203383Z"
    },
    "hidden": true
   },
   "outputs": [
    {
     "data": {
      "text/plain": [
       "0.82"
      ]
     },
     "execution_count": 15,
     "metadata": {},
     "output_type": "execute_result"
    }
   ],
   "source": [
    "# computing MRR\n",
    "flat_bert_mrr = utils.mean_reciprocal_rank(flat_bert_results)\n",
    "flat_bert_mrr"
   ]
  },
  {
   "cell_type": "markdown",
   "id": "2acd5d99",
   "metadata": {
    "heading_collapsed": true,
    "hidden": true
   },
   "source": [
    "#### 3.1.1.2 TF-IDF"
   ]
  },
  {
   "cell_type": "code",
   "execution_count": 16,
   "id": "ed6d6d20",
   "metadata": {
    "ExecuteTime": {
     "end_time": "2022-09-28T18:05:55.252211Z",
     "start_time": "2022-09-28T18:05:55.208239Z"
    },
    "hidden": true
   },
   "outputs": [],
   "source": [
    "# builds the index\n",
    "idx_flat_tfidf = utils.index_flat(tfidf.astype(np.float32))"
   ]
  },
  {
   "cell_type": "code",
   "execution_count": 17,
   "id": "85126488",
   "metadata": {
    "ExecuteTime": {
     "end_time": "2022-09-28T18:05:56.654138Z",
     "start_time": "2022-09-28T18:05:55.253165Z"
    },
    "hidden": true
   },
   "outputs": [
    {
     "name": "stdout",
     "output_type": "stream",
     "text": [
      "100/100\r"
     ]
    }
   ],
   "source": [
    "# doing the queries\n",
    "flat_tfidf_results = utils.search(idx_flat_tfidf, k, 'tf-idf', queries, rel_docs, collection_size, threshold)"
   ]
  },
  {
   "cell_type": "code",
   "execution_count": 18,
   "id": "4016f463",
   "metadata": {
    "ExecuteTime": {
     "end_time": "2022-09-28T18:05:56.658183Z",
     "start_time": "2022-09-28T18:05:56.655111Z"
    },
    "hidden": true
   },
   "outputs": [
    {
     "data": {
      "text/plain": [
       "0.785"
      ]
     },
     "execution_count": 18,
     "metadata": {},
     "output_type": "execute_result"
    }
   ],
   "source": [
    "# computing MRR\n",
    "flat_tfidf_mrr = utils.mean_reciprocal_rank(flat_tfidf_results)\n",
    "flat_tfidf_mrr"
   ]
  },
  {
   "cell_type": "markdown",
   "id": "defd1fb4",
   "metadata": {
    "heading_collapsed": true,
    "hidden": true
   },
   "source": [
    "### 3.1.2 IVFFlat"
   ]
  },
  {
   "cell_type": "markdown",
   "id": "da7d35b6",
   "metadata": {
    "heading_collapsed": true,
    "hidden": true
   },
   "source": [
    "#### 3.1.2.1 Bert"
   ]
  },
  {
   "cell_type": "code",
   "execution_count": 19,
   "id": "699fe2b3",
   "metadata": {
    "ExecuteTime": {
     "end_time": "2022-09-28T18:05:56.732797Z",
     "start_time": "2022-09-28T18:05:56.659308Z"
    },
    "hidden": true
   },
   "outputs": [
    {
     "data": {
      "text/plain": [
       "(True, 1239)"
      ]
     },
     "execution_count": 19,
     "metadata": {},
     "output_type": "execute_result"
    }
   ],
   "source": [
    "nlist = 10\n",
    "idx_ivfflat_bert = utils.index_ivfflat(bert_normalized, nlist)\n",
    "idx_ivfflat_bert.is_trained, idx_ivfflat_bert.ntotal"
   ]
  },
  {
   "cell_type": "code",
   "execution_count": 20,
   "id": "b2b5669c",
   "metadata": {
    "ExecuteTime": {
     "end_time": "2022-09-28T18:05:56.813789Z",
     "start_time": "2022-09-28T18:05:56.733766Z"
    },
    "hidden": true
   },
   "outputs": [
    {
     "name": "stdout",
     "output_type": "stream",
     "text": [
      "1/100\r",
      "2/100\r",
      "3/100\r",
      "4/100\r",
      "5/100\r",
      "6/100\r",
      "7/100\r",
      "8/100\r",
      "9/100\r",
      "10/100\r",
      "11/100\r",
      "12/100\r",
      "13/100\r",
      "14/100\r",
      "15/100\r",
      "16/100\r",
      "17/100\r",
      "18/100\r",
      "19/100\r",
      "20/100\r",
      "21/100\r",
      "22/100\r",
      "23/100\r",
      "24/100\r",
      "25/100\r",
      "26/100\r",
      "27/100\r",
      "28/100\r",
      "29/100\r",
      "30/100\r",
      "31/100\r",
      "32/100\r",
      "33/100\r",
      "34/100\r",
      "35/100\r",
      "36/100\r",
      "37/100\r",
      "38/100\r",
      "39/100\r",
      "40/100\r",
      "41/100\r",
      "42/100\r",
      "43/100\r",
      "44/100\r",
      "45/100\r",
      "46/100\r",
      "47/100\r",
      "48/100\r",
      "49/100\r",
      "50/100\r",
      "51/100\r",
      "52/100\r",
      "53/100\r",
      "54/100\r",
      "55/100\r",
      "56/100\r",
      "57/100\r",
      "58/100\r",
      "59/100\r",
      "60/100\r",
      "61/100\r",
      "62/100\r",
      "63/100\r",
      "64/100\r",
      "65/100\r",
      "66/100\r",
      "67/100\r",
      "68/100\r",
      "69/100\r",
      "70/100\r",
      "71/100\r",
      "72/100\r",
      "73/100\r",
      "74/100\r",
      "75/100\r",
      "76/100\r",
      "77/100\r",
      "78/100\r",
      "79/100\r",
      "80/100\r",
      "81/100\r",
      "82/100\r",
      "83/100\r",
      "84/100\r",
      "85/100\r",
      "86/100\r",
      "87/100\r",
      "88/100\r",
      "89/100\r",
      "90/100\r",
      "91/100\r",
      "92/100\r",
      "93/100\r",
      "94/100\r",
      "95/100\r",
      "96/100\r",
      "97/100\r",
      "98/100\r",
      "99/100\r",
      "100/100\r"
     ]
    }
   ],
   "source": [
    "# doing the queries\n",
    "ivfflat_bert_results = utils.search(idx_ivfflat_bert, k, 'embedding', queries, \n",
    "                                    rel_docs, collection_size, threshold)"
   ]
  },
  {
   "cell_type": "code",
   "execution_count": 21,
   "id": "70e78813",
   "metadata": {
    "ExecuteTime": {
     "end_time": "2022-09-28T18:05:56.817455Z",
     "start_time": "2022-09-28T18:05:56.814553Z"
    },
    "hidden": true
   },
   "outputs": [
    {
     "data": {
      "text/plain": [
       "0.688"
      ]
     },
     "execution_count": 21,
     "metadata": {},
     "output_type": "execute_result"
    }
   ],
   "source": [
    "# computing MRR\n",
    "ivfflat_bert_mrr = utils.mean_reciprocal_rank(ivfflat_bert_results)\n",
    "ivfflat_bert_mrr"
   ]
  },
  {
   "cell_type": "markdown",
   "id": "68e1ad2b",
   "metadata": {
    "heading_collapsed": true,
    "hidden": true
   },
   "source": [
    "#### 3.1.2.2 TF-IDF"
   ]
  },
  {
   "cell_type": "code",
   "execution_count": 22,
   "id": "4684bcc1",
   "metadata": {
    "ExecuteTime": {
     "end_time": "2022-09-28T18:05:57.109598Z",
     "start_time": "2022-09-28T18:05:56.818305Z"
    },
    "hidden": true
   },
   "outputs": [],
   "source": [
    "# builds the index\n",
    "idx_flat_tfidf = utils.index_ivfflat(tfidf.astype(np.float32), nlist)"
   ]
  },
  {
   "cell_type": "code",
   "execution_count": 23,
   "id": "51c33a70",
   "metadata": {
    "ExecuteTime": {
     "end_time": "2022-09-28T18:05:57.392610Z",
     "start_time": "2022-09-28T18:05:57.110405Z"
    },
    "hidden": true
   },
   "outputs": [
    {
     "name": "stdout",
     "output_type": "stream",
     "text": [
      "100/100\r"
     ]
    }
   ],
   "source": [
    "# doind the queries\n",
    "ivfflat_tfidf_results = utils.search(idx_flat_tfidf, k, 'tf-idf', queries, \n",
    "                                     rel_docs, collection_size, threshold)"
   ]
  },
  {
   "cell_type": "code",
   "execution_count": 24,
   "id": "f08ffc49",
   "metadata": {
    "ExecuteTime": {
     "end_time": "2022-09-28T18:05:57.398024Z",
     "start_time": "2022-09-28T18:05:57.394268Z"
    },
    "hidden": true
   },
   "outputs": [
    {
     "data": {
      "text/plain": [
       "0.691"
      ]
     },
     "execution_count": 24,
     "metadata": {},
     "output_type": "execute_result"
    }
   ],
   "source": [
    "# computing MRR\n",
    "ivfflat_tfidf_mrr = utils.mean_reciprocal_rank(ivfflat_tfidf_results)\n",
    "ivfflat_tfidf_mrr"
   ]
  },
  {
   "cell_type": "markdown",
   "id": "2edff7e7",
   "metadata": {
    "heading_collapsed": true,
    "hidden": true
   },
   "source": [
    "## 3.2 Documents without stopwords"
   ]
  },
  {
   "cell_type": "markdown",
   "id": "6f42438a",
   "metadata": {
    "hidden": true
   },
   "source": [
    "### 3.2.1 Flat"
   ]
  },
  {
   "cell_type": "markdown",
   "id": "c0a08dfc",
   "metadata": {
    "heading_collapsed": true,
    "hidden": true
   },
   "source": [
    "#### 3.2.1.1 Bert"
   ]
  },
  {
   "cell_type": "code",
   "execution_count": 25,
   "id": "121a7cfe",
   "metadata": {
    "ExecuteTime": {
     "end_time": "2022-09-28T18:05:57.411453Z",
     "start_time": "2022-09-28T18:05:57.399541Z"
    },
    "hidden": true
   },
   "outputs": [],
   "source": [
    "# normalizing the embeddings\n",
    "bert_normalized_wo_sw = bert_wo_sw.copy()\n",
    "faiss.normalize_L2(bert_normalized_wo_sw)"
   ]
  },
  {
   "cell_type": "code",
   "execution_count": 26,
   "id": "f6ea0617",
   "metadata": {
    "ExecuteTime": {
     "end_time": "2022-09-28T18:05:57.415065Z",
     "start_time": "2022-09-28T18:05:57.412674Z"
    },
    "hidden": true
   },
   "outputs": [],
   "source": [
    "# builds the index\n",
    "idx_flat_bert_wo_sw = utils.index_flat(bert_normalized_wo_sw)"
   ]
  },
  {
   "cell_type": "code",
   "execution_count": 27,
   "id": "d195b83a",
   "metadata": {
    "ExecuteTime": {
     "end_time": "2022-09-28T18:05:57.570445Z",
     "start_time": "2022-09-28T18:05:57.415787Z"
    },
    "hidden": true
   },
   "outputs": [
    {
     "name": "stdout",
     "output_type": "stream",
     "text": [
      "100/100\r"
     ]
    }
   ],
   "source": [
    "# doing the queries\n",
    "flat_bert_results_wo_sw = utils.search(idx_flat_bert_wo_sw, k, 'embedding', \n",
    "                                       queries_wo_sw, rel_docs, collection_size, \n",
    "                                       threshold)"
   ]
  },
  {
   "cell_type": "code",
   "execution_count": 28,
   "id": "64776cd6",
   "metadata": {
    "ExecuteTime": {
     "end_time": "2022-09-28T18:05:57.574813Z",
     "start_time": "2022-09-28T18:05:57.571614Z"
    },
    "hidden": true
   },
   "outputs": [
    {
     "data": {
      "text/plain": [
       "0.766"
      ]
     },
     "execution_count": 28,
     "metadata": {},
     "output_type": "execute_result"
    }
   ],
   "source": [
    "# computing MRR\n",
    "flat_bert_mrr_wo_sw = utils.mean_reciprocal_rank(flat_bert_results_wo_sw)\n",
    "flat_bert_mrr_wo_sw"
   ]
  },
  {
   "cell_type": "markdown",
   "id": "3b8eab9e",
   "metadata": {
    "heading_collapsed": true,
    "hidden": true
   },
   "source": [
    "#### 3.2.1.2 TF-IDF"
   ]
  },
  {
   "cell_type": "code",
   "execution_count": 29,
   "id": "15c1d905",
   "metadata": {
    "ExecuteTime": {
     "end_time": "2022-09-28T18:05:57.614318Z",
     "start_time": "2022-09-28T18:05:57.575790Z"
    },
    "hidden": true
   },
   "outputs": [],
   "source": [
    "# builds the index\n",
    "idx_flat_tfidf_wo_sw = utils.index_flat(tfidf_wo_sw.astype(np.float32))"
   ]
  },
  {
   "cell_type": "code",
   "execution_count": 30,
   "id": "3cd84964",
   "metadata": {
    "ExecuteTime": {
     "end_time": "2022-09-28T18:05:58.986343Z",
     "start_time": "2022-09-28T18:05:57.615273Z"
    },
    "hidden": true
   },
   "outputs": [
    {
     "name": "stdout",
     "output_type": "stream",
     "text": [
      "100/100\r"
     ]
    }
   ],
   "source": [
    "# doing the queries\n",
    "flat_tfidf_results_wo_sw = utils.search(idx_flat_tfidf_wo_sw, k, 'tf-idf', \n",
    "                                        queries_wo_sw, rel_docs, collection_size, \n",
    "                                        threshold)"
   ]
  },
  {
   "cell_type": "code",
   "execution_count": 31,
   "id": "0302e837",
   "metadata": {
    "ExecuteTime": {
     "end_time": "2022-09-28T18:05:58.990008Z",
     "start_time": "2022-09-28T18:05:58.987450Z"
    },
    "hidden": true
   },
   "outputs": [
    {
     "data": {
      "text/plain": [
       "0.789"
      ]
     },
     "execution_count": 31,
     "metadata": {},
     "output_type": "execute_result"
    }
   ],
   "source": [
    "# computing MRR\n",
    "flat_tfidf_mrr_wo_sw = utils.mean_reciprocal_rank(flat_tfidf_results_wo_sw)\n",
    "flat_tfidf_mrr_wo_sw"
   ]
  },
  {
   "cell_type": "markdown",
   "id": "d7e324d9",
   "metadata": {
    "hidden": true
   },
   "source": [
    "### 3.2.2 IVFFlat"
   ]
  },
  {
   "cell_type": "markdown",
   "id": "c20cbfd8",
   "metadata": {
    "heading_collapsed": true,
    "hidden": true
   },
   "source": [
    "#### 3.2.2.1 Bert"
   ]
  },
  {
   "cell_type": "code",
   "execution_count": 32,
   "id": "df26ee78",
   "metadata": {
    "ExecuteTime": {
     "end_time": "2022-09-28T18:05:59.031523Z",
     "start_time": "2022-09-28T18:05:58.990838Z"
    },
    "hidden": true
   },
   "outputs": [
    {
     "data": {
      "text/plain": [
       "(True, 1239)"
      ]
     },
     "execution_count": 32,
     "metadata": {},
     "output_type": "execute_result"
    }
   ],
   "source": [
    "idx_ivfflat_bert_wo_sw = utils.index_ivfflat(bert_normalized_wo_sw, nlist)\n",
    "idx_ivfflat_bert_wo_sw.is_trained, idx_ivfflat_bert_wo_sw.ntotal"
   ]
  },
  {
   "cell_type": "code",
   "execution_count": 33,
   "id": "e1a97d1d",
   "metadata": {
    "ExecuteTime": {
     "end_time": "2022-09-28T18:05:59.117895Z",
     "start_time": "2022-09-28T18:05:59.032892Z"
    },
    "hidden": true
   },
   "outputs": [
    {
     "name": "stdout",
     "output_type": "stream",
     "text": [
      "100/100\r"
     ]
    }
   ],
   "source": [
    "# doing the queries\n",
    "ivfflat_bert_results_wo_sw = utils.search(idx_ivfflat_bert_wo_sw, k, 'embedding', \n",
    "                                          queries_wo_sw, rel_docs, collection_size, \n",
    "                                          threshold)"
   ]
  },
  {
   "cell_type": "code",
   "execution_count": 34,
   "id": "d29e4baa",
   "metadata": {
    "ExecuteTime": {
     "end_time": "2022-09-28T18:05:59.122220Z",
     "start_time": "2022-09-28T18:05:59.119007Z"
    },
    "hidden": true
   },
   "outputs": [
    {
     "data": {
      "text/plain": [
       "0.664"
      ]
     },
     "execution_count": 34,
     "metadata": {},
     "output_type": "execute_result"
    }
   ],
   "source": [
    "# computing MRR\n",
    "ivfflat_bert_mrr_wo_sw = utils.mean_reciprocal_rank(ivfflat_bert_results_wo_sw)\n",
    "ivfflat_bert_mrr_wo_sw"
   ]
  },
  {
   "cell_type": "markdown",
   "id": "2fe6350b",
   "metadata": {
    "heading_collapsed": true,
    "hidden": true
   },
   "source": [
    "#### 3.2.2.2 TF-IDF"
   ]
  },
  {
   "cell_type": "code",
   "execution_count": 35,
   "id": "7ff9e258",
   "metadata": {
    "ExecuteTime": {
     "end_time": "2022-09-28T18:05:59.373543Z",
     "start_time": "2022-09-28T18:05:59.123356Z"
    },
    "hidden": true
   },
   "outputs": [],
   "source": [
    "# builds the index\n",
    "idx_flat_tfidf_wo_sw = utils.index_ivfflat(tfidf_wo_sw.astype(np.float32), nlist)"
   ]
  },
  {
   "cell_type": "code",
   "execution_count": 36,
   "id": "b5fac544",
   "metadata": {
    "ExecuteTime": {
     "end_time": "2022-09-28T18:05:59.618650Z",
     "start_time": "2022-09-28T18:05:59.374775Z"
    },
    "hidden": true
   },
   "outputs": [
    {
     "name": "stdout",
     "output_type": "stream",
     "text": [
      "100/100\r"
     ]
    }
   ],
   "source": [
    "# doind the queries\n",
    "ivfflat_tfidf_results_wo_sw = utils.search(idx_flat_tfidf_wo_sw, k, 'tf-idf', \n",
    "                                           queries_wo_sw, rel_docs, collection_size, \n",
    "                                           threshold)"
   ]
  },
  {
   "cell_type": "code",
   "execution_count": 37,
   "id": "5f1ee0fe",
   "metadata": {
    "ExecuteTime": {
     "end_time": "2022-09-28T18:05:59.622353Z",
     "start_time": "2022-09-28T18:05:59.619459Z"
    },
    "hidden": true
   },
   "outputs": [
    {
     "data": {
      "text/plain": [
       "0.621"
      ]
     },
     "execution_count": 37,
     "metadata": {},
     "output_type": "execute_result"
    }
   ],
   "source": [
    "# computing MRR\n",
    "ivfflat_tfidf_mrr_wo_sw = utils.mean_reciprocal_rank(ivfflat_tfidf_results_wo_sw)\n",
    "ivfflat_tfidf_mrr_wo_sw"
   ]
  },
  {
   "cell_type": "markdown",
   "id": "72c4e41e",
   "metadata": {
    "heading_collapsed": true
   },
   "source": [
    "# 4. Evaluate"
   ]
  },
  {
   "cell_type": "code",
   "execution_count": 38,
   "id": "625801bb",
   "metadata": {
    "ExecuteTime": {
     "end_time": "2022-09-28T18:05:59.629723Z",
     "start_time": "2022-09-28T18:05:59.623053Z"
    },
    "hidden": true
   },
   "outputs": [],
   "source": [
    "import pandas as pd\n",
    "import seaborn as sns\n",
    "import matplotlib.pyplot as plt\n",
    "\n",
    "sns.set_theme(style='white')"
   ]
  },
  {
   "cell_type": "code",
   "execution_count": 39,
   "id": "6a11f211",
   "metadata": {
    "ExecuteTime": {
     "end_time": "2022-09-28T18:05:59.634638Z",
     "start_time": "2022-09-28T18:05:59.631940Z"
    },
    "hidden": true
   },
   "outputs": [],
   "source": [
    "# recall\n",
    "recall = np.arange(0, 1.1, 0.1)"
   ]
  },
  {
   "cell_type": "markdown",
   "id": "227e32d6",
   "metadata": {
    "heading_collapsed": true,
    "hidden": true
   },
   "source": [
    "## 4.1 Precision"
   ]
  },
  {
   "cell_type": "code",
   "execution_count": 40,
   "id": "136eef62",
   "metadata": {
    "ExecuteTime": {
     "end_time": "2022-09-28T18:05:59.643950Z",
     "start_time": "2022-09-28T18:05:59.635249Z"
    },
    "hidden": true
   },
   "outputs": [],
   "source": [
    "# getting the precision_recall\n",
    "p_results = {\n",
    "    'Flat - sentenceBERT': [r['precision'] for r in flat_bert_results.values()],\n",
    "    'Flat - TF-IDF': [r['precision'] for r in flat_tfidf_results.values()],\n",
    "    'IVFFlat - sentenceBERT': [r['precision'] for r in ivfflat_bert_results.values()],\n",
    "    'IVFFlat - TF-IDF': [r['precision'] for r in ivfflat_tfidf_results.values()],\n",
    "}\n",
    "\n",
    "p_results_wo_sw = {\n",
    "    'Flat - sentenceBERT': [r['precision'] for r in flat_bert_results_wo_sw.values()],\n",
    "    'Flat - TF-IDF': [r['precision'] for r in flat_tfidf_results_wo_sw.values()],\n",
    "    'IVFFlat - sentenceBERT': [r['precision'] for r in ivfflat_bert_results_wo_sw.values()],\n",
    "    'IVFFlat - TF-IDF': [r['precision'] for r in ivfflat_tfidf_results_wo_sw.values()],\n",
    "}\n",
    "\n",
    "# transforming into dataframe\n",
    "p_results = pd.melt(pd.DataFrame(p_results))\n",
    "p_results_wo_sw = pd.melt(pd.DataFrame(p_results_wo_sw))\n",
    "\n",
    "# labeling\n",
    "p_results['Preprocessing'] = 'no preprocessing'\n",
    "p_results_wo_sw['Preprocessing'] = 'no stopwords'\n",
    "\n",
    "# join\n",
    "p_results = pd.concat([p_results, p_results_wo_sw]).reset_index(drop=True)"
   ]
  },
  {
   "cell_type": "code",
   "execution_count": 41,
   "id": "dc4eaa9a",
   "metadata": {
    "ExecuteTime": {
     "end_time": "2022-09-28T18:05:59.648511Z",
     "start_time": "2022-09-28T18:05:59.644720Z"
    },
    "hidden": true
   },
   "outputs": [],
   "source": [
    "from scipy.stats import ttest_ind"
   ]
  },
  {
   "cell_type": "code",
   "execution_count": 42,
   "id": "a7dc0591",
   "metadata": {
    "ExecuteTime": {
     "end_time": "2022-09-28T18:05:59.661870Z",
     "start_time": "2022-09-28T18:05:59.649292Z"
    },
    "hidden": true,
    "scrolled": true
   },
   "outputs": [
    {
     "name": "stdout",
     "output_type": "stream",
     "text": [
      "-------------------------------------------------------------------------------- \n",
      "Flat - sentenceBERT\n",
      "\n",
      "Average Precision - no preprocessing: 0.271.\n",
      "Average Precision - no stopwords: 0.258.\n",
      "Absolute Diferrence: 0.013.\n",
      "p-Value: 0.601.\n",
      "-------------------------------------------------------------------------------- \n",
      "Flat - TF-IDF\n",
      "\n",
      "Average Precision - no preprocessing: 0.238.\n",
      "Average Precision - no stopwords: 0.24.\n",
      "Absolute Diferrence: 0.002.\n",
      "p-Value: 0.949.\n",
      "-------------------------------------------------------------------------------- \n",
      "IVFFlat - sentenceBERT\n",
      "\n",
      "Average Precision - no preprocessing: 0.244.\n",
      "Average Precision - no stopwords: 0.226.\n",
      "Absolute Diferrence: 0.018.\n",
      "p-Value: 0.541.\n",
      "-------------------------------------------------------------------------------- \n",
      "IVFFlat - TF-IDF\n",
      "\n",
      "Average Precision - no preprocessing: 0.205.\n",
      "Average Precision - no stopwords: 0.201.\n",
      "Absolute Diferrence: 0.004.\n",
      "p-Value: 0.871.\n"
     ]
    }
   ],
   "source": [
    "# t-test\n",
    "utils.t_test(p_results)"
   ]
  },
  {
   "cell_type": "code",
   "execution_count": 43,
   "id": "99d72d7f",
   "metadata": {
    "ExecuteTime": {
     "end_time": "2022-09-28T18:05:59.814248Z",
     "start_time": "2022-09-28T18:05:59.662690Z"
    },
    "hidden": true
   },
   "outputs": [
    {
     "data": {
      "image/png": "[encoded data removed]",
      "text/plain": [
       "<Figure size 576x360 with 1 Axes>"
      ]
     },
     "metadata": {},
     "output_type": "display_data"
    }
   ],
   "source": [
    "# plotting the results\n",
    "plt.figure(figsize=(8, 5))\n",
    "sns.boxplot(y='variable', x='value', orient='h', hue='Preprocessing', linewidth=1, data=p_results)\n",
    "plt.legend(bbox_to_anchor=(1.02, 1), loc='upper left', borderaxespad=0)\n",
    "plt.xlabel('Precision'), plt.ylabel('')\n",
    "plt.show()"
   ]
  },
  {
   "cell_type": "markdown",
   "id": "fc04023c",
   "metadata": {
    "heading_collapsed": true,
    "hidden": true
   },
   "source": [
    "## 4.2 Recall"
   ]
  },
  {
   "cell_type": "code",
   "execution_count": 44,
   "id": "4c9be9d8",
   "metadata": {
    "ExecuteTime": {
     "end_time": "2022-09-28T18:05:59.823470Z",
     "start_time": "2022-09-28T18:05:59.815161Z"
    },
    "hidden": true
   },
   "outputs": [],
   "source": [
    "# getting the precision_recall\n",
    "r_results = {\n",
    "    'Flat - sentenceBERT': [r['recall'] for r in flat_bert_results.values()],\n",
    "    'Flat - TF-IDF': [r['recall'] for r in flat_tfidf_results.values()],\n",
    "    'IVFFlat - sentenceBERT': [r['recall'] for r in ivfflat_bert_results.values()],\n",
    "    'IVFFlat - TF-IDF': [r['recall'] for r in ivfflat_tfidf_results.values()],\n",
    "}\n",
    "\n",
    "r_results_wo_sw = {\n",
    "    'Flat - sentenceBERT': [r['recall'] for r in flat_bert_results_wo_sw.values()],\n",
    "    'Flat - TF-IDF': [r['recall'] for r in flat_tfidf_results_wo_sw.values()],\n",
    "    'IVFFlat - sentenceBERT': [r['recall'] for r in ivfflat_bert_results_wo_sw.values()],\n",
    "    'IVFFlat - TF-IDF': [r['recall'] for r in ivfflat_tfidf_results_wo_sw.values()],\n",
    "}\n",
    "\n",
    "# transforming into dataframe\n",
    "r_results = pd.melt(pd.DataFrame(r_results))\n",
    "r_results_wo_sw = pd.melt(pd.DataFrame(r_results_wo_sw))\n",
    "\n",
    "# labeling\n",
    "r_results['Preprocessing'] = 'no preprocessing'\n",
    "r_results_wo_sw['Preprocessing'] = 'no stopwords'\n",
    "\n",
    "# join\n",
    "r_results = pd.concat([r_results, r_results_wo_sw]).reset_index(drop=True)"
   ]
  },
  {
   "cell_type": "code",
   "execution_count": 45,
   "id": "d9b170d4",
   "metadata": {
    "ExecuteTime": {
     "end_time": "2022-09-28T18:05:59.845894Z",
     "start_time": "2022-09-28T18:05:59.824470Z"
    },
    "hidden": true,
    "scrolled": true
   },
   "outputs": [
    {
     "name": "stdout",
     "output_type": "stream",
     "text": [
      "-------------------------------------------------------------------------------- \n",
      "Flat - sentenceBERT\n",
      "\n",
      "Average Precision - no preprocessing: 0.352.\n",
      "Average Precision - no stopwords: 0.328.\n",
      "Absolute Diferrence: 0.024.\n",
      "p-Value: 0.292.\n",
      "-------------------------------------------------------------------------------- \n",
      "Flat - TF-IDF\n",
      "\n",
      "Average Precision - no preprocessing: 0.337.\n",
      "Average Precision - no stopwords: 0.346.\n",
      "Absolute Diferrence: 0.009.\n",
      "p-Value: 0.739.\n",
      "-------------------------------------------------------------------------------- \n",
      "IVFFlat - sentenceBERT\n",
      "\n",
      "Average Precision - no preprocessing: 0.278.\n",
      "Average Precision - no stopwords: 0.267.\n",
      "Absolute Diferrence: 0.011.\n",
      "p-Value: 0.685.\n",
      "-------------------------------------------------------------------------------- \n",
      "IVFFlat - TF-IDF\n",
      "\n",
      "Average Precision - no preprocessing: 0.255.\n",
      "Average Precision - no stopwords: 0.257.\n",
      "Absolute Diferrence: 0.002.\n",
      "p-Value: 0.96.\n"
     ]
    }
   ],
   "source": [
    "# t-test\n",
    "utils.t_test(r_results)"
   ]
  },
  {
   "cell_type": "code",
   "execution_count": 46,
   "id": "2ea2683a",
   "metadata": {
    "ExecuteTime": {
     "end_time": "2022-09-28T18:06:00.064765Z",
     "start_time": "2022-09-28T18:05:59.846684Z"
    },
    "hidden": true
   },
   "outputs": [
    {
     "data": {
      "image/png": "[encoded data removed]",
      "text/plain": [
       "<Figure size 576x360 with 1 Axes>"
      ]
     },
     "metadata": {},
     "output_type": "display_data"
    }
   ],
   "source": [
    "# plotting the results\n",
    "plt.figure(figsize=(8, 5))\n",
    "sns.boxplot(y='variable', x='value', orient='h', hue='Preprocessing', linewidth=1, data=r_results)\n",
    "plt.legend(bbox_to_anchor=(1.02, 1), loc='upper left', borderaxespad=0)\n",
    "plt.xlabel('Recall'), plt.ylabel('')\n",
    "plt.show()"
   ]
  },
  {
   "cell_type": "markdown",
   "id": "2ce32ca2",
   "metadata": {
    "heading_collapsed": true,
    "hidden": true
   },
   "source": [
    "## 4.3 The 11 Standard Recall Levels"
   ]
  },
  {
   "cell_type": "code",
   "execution_count": 47,
   "id": "e8522acd",
   "metadata": {
    "ExecuteTime": {
     "end_time": "2022-09-28T18:06:00.071196Z",
     "start_time": "2022-09-28T18:06:00.065501Z"
    },
    "hidden": true
   },
   "outputs": [],
   "source": [
    "# getting the precision_recall\n",
    "p_r_results = {\n",
    "    'Flat - sentenceBERT': np.mean([r['precision_recall'][:, 1] for r in flat_bert_results.values()], axis=0),\n",
    "    'Flat - TF-IDF': np.mean([r['precision_recall'][:, 1] for r in flat_tfidf_results.values()], axis=0),\n",
    "    'IVFFlat - sentenceBERT': np.mean([r['precision_recall'][:, 1] for r in ivfflat_bert_results.values()], axis=0),\n",
    "    'IVFFlat - TF-IDF': np.mean([r['precision_recall'][:, 1] for r in ivfflat_tfidf_results.values()], axis=0),\n",
    "}\n",
    "\n",
    "p_r_results_wo_sw = {\n",
    "    'Flat - sentenceBERT': np.mean([r['precision_recall'][:, 1] for r in flat_bert_results_wo_sw.values()], axis=0),\n",
    "    'Flat - TF-IDF': np.mean([r['precision_recall'][:, 1] for r in flat_tfidf_results_wo_sw.values()], axis=0),\n",
    "    'IVFFlat - sentenceBERT': np.mean([r['precision_recall'][:, 1] for r in ivfflat_bert_results_wo_sw.values()], axis=0),\n",
    "    'IVFFlat - TF-IDF': np.mean([r['precision_recall'][:, 1] for r in ivfflat_tfidf_results_wo_sw.values()], axis=0),\n",
    "}"
   ]
  },
  {
   "cell_type": "code",
   "execution_count": 48,
   "id": "f8c05b4f",
   "metadata": {
    "ExecuteTime": {
     "end_time": "2022-09-28T18:06:00.362776Z",
     "start_time": "2022-09-28T18:06:00.072260Z"
    },
    "hidden": true
   },
   "outputs": [
    {
     "data": {
      "image/png": "[encoded data removed]",
      "text/plain": [
       "<Figure size 864x288 with 2 Axes>"
      ]
     },
     "metadata": {},
     "output_type": "display_data"
    }
   ],
   "source": [
    "# Precision-Recall Curve\n",
    "plt.figure(figsize=(12, 4))\n",
    "\n",
    "plt.subplot(1, 2, 1)\n",
    "utils.plot_recall_levels(p_r_results, 'No Preprocessing')\n",
    "\n",
    "plt.subplot(1, 2, 2)\n",
    "utils.plot_recall_levels(p_r_results_wo_sw, 'No Stopwords')"
   ]
  },
  {
   "cell_type": "markdown",
   "id": "cd5d5fd7",
   "metadata": {
    "heading_collapsed": true,
    "hidden": true
   },
   "source": [
    "## 4.4 P@5"
   ]
  },
  {
   "cell_type": "code",
   "execution_count": 49,
   "id": "69623072",
   "metadata": {
    "ExecuteTime": {
     "end_time": "2022-09-28T18:06:00.371615Z",
     "start_time": "2022-09-28T18:06:00.363801Z"
    },
    "hidden": true
   },
   "outputs": [],
   "source": [
    "# getting the p@5 and p@10\n",
    "p5_results = {\n",
    "    'Flat - sentenceBERT': [r['p@5'] for r in flat_bert_results.values()],\n",
    "    'Flat - TF-IDF': [r['p@5'] for r in flat_tfidf_results.values()],\n",
    "    'IVFFlat - sentenceBERT': [r['p@5'] for r in ivfflat_bert_results.values()],\n",
    "    'IVFFlat - TF-IDF': [r['p@5'] for r in ivfflat_tfidf_results.values()],\n",
    "}\n",
    "\n",
    "p5_results_wo_sw = {\n",
    "    'Flat - sentenceBERT': [r['p@5'] for r in flat_bert_results_wo_sw.values()],\n",
    "    'Flat - TF-IDF': [r['p@5'] for r in flat_tfidf_results_wo_sw.values()],\n",
    "    'IVFFlat - sentenceBERT': [r['p@5'] for r in ivfflat_bert_results_wo_sw.values()],\n",
    "    'IVFFlat - TF-IDF': [r['p@5'] for r in ivfflat_tfidf_results_wo_sw.values()],\n",
    "}\n",
    "\n",
    "# transforming into dataframe\n",
    "p5_results = pd.melt(pd.DataFrame(p5_results))\n",
    "p5_results_wo_sw = pd.melt(pd.DataFrame(p5_results_wo_sw))\n",
    "\n",
    "# labeling\n",
    "p5_results['Preprocessing'] = 'no preprocessing'\n",
    "p5_results_wo_sw['Preprocessing'] = 'no stopwords'\n",
    "\n",
    "# join\n",
    "p5_results = pd.concat([p5_results, p5_results_wo_sw]).reset_index(drop=True)"
   ]
  },
  {
   "cell_type": "code",
   "execution_count": 50,
   "id": "13d8b222",
   "metadata": {
    "ExecuteTime": {
     "end_time": "2022-09-28T18:06:00.391761Z",
     "start_time": "2022-09-28T18:06:00.372410Z"
    },
    "hidden": true,
    "scrolled": true
   },
   "outputs": [
    {
     "name": "stdout",
     "output_type": "stream",
     "text": [
      "-------------------------------------------------------------------------------- \n",
      "Flat - sentenceBERT\n",
      "\n",
      "Average Precision - no preprocessing: 0.58.\n",
      "Average Precision - no stopwords: 0.514.\n",
      "Absolute Diferrence: 0.066.\n",
      "p-Value: 0.128.\n",
      "-------------------------------------------------------------------------------- \n",
      "Flat - TF-IDF\n",
      "\n",
      "Average Precision - no preprocessing: 0.556.\n",
      "Average Precision - no stopwords: 0.55.\n",
      "Absolute Diferrence: 0.006.\n",
      "p-Value: 0.887.\n",
      "-------------------------------------------------------------------------------- \n",
      "IVFFlat - sentenceBERT\n",
      "\n",
      "Average Precision - no preprocessing: 0.478.\n",
      "Average Precision - no stopwords: 0.432.\n",
      "Absolute Diferrence: 0.046.\n",
      "p-Value: 0.348.\n",
      "-------------------------------------------------------------------------------- \n",
      "IVFFlat - TF-IDF\n",
      "\n",
      "Average Precision - no preprocessing: 0.46.\n",
      "Average Precision - no stopwords: 0.426.\n",
      "Absolute Diferrence: 0.034.\n",
      "p-Value: 0.482.\n"
     ]
    }
   ],
   "source": [
    "# t-test\n",
    "utils.t_test(p5_results)"
   ]
  },
  {
   "cell_type": "code",
   "execution_count": 51,
   "id": "a7ea25b5",
   "metadata": {
    "ExecuteTime": {
     "end_time": "2022-09-28T18:06:00.544348Z",
     "start_time": "2022-09-28T18:06:00.392821Z"
    },
    "hidden": true
   },
   "outputs": [
    {
     "data": {
      "image/png": "[encoded data removed]",
      "text/plain": [
       "<Figure size 576x288 with 1 Axes>"
      ]
     },
     "metadata": {},
     "output_type": "display_data"
    }
   ],
   "source": [
    "# plotting the results\n",
    "utils.p_at(p5_results, 'P@5')"
   ]
  },
  {
   "cell_type": "markdown",
   "id": "bb637245",
   "metadata": {
    "heading_collapsed": true,
    "hidden": true
   },
   "source": [
    "## 4.5 P@10"
   ]
  },
  {
   "cell_type": "code",
   "execution_count": 52,
   "id": "114cca80",
   "metadata": {
    "ExecuteTime": {
     "end_time": "2022-09-28T18:06:00.556279Z",
     "start_time": "2022-09-28T18:06:00.545247Z"
    },
    "hidden": true
   },
   "outputs": [],
   "source": [
    "# getting the p@5 and p@10\n",
    "p10_results = {\n",
    "    'Flat - sentenceBERT': [r['p@10'] for r in flat_bert_results.values()],\n",
    "    'Flat - TF-IDF': [r['p@10'] for r in flat_tfidf_results.values()],\n",
    "    'IVFFlat - sentenceBERT': [r['p@10'] for r in ivfflat_bert_results.values()],\n",
    "    'IVFFlat - TF-IDF': [r['p@10'] for r in ivfflat_tfidf_results.values()],\n",
    "}\n",
    "\n",
    "p10_results_wo_sw = {\n",
    "    'Flat - sentenceBERT': [r['p@10'] for r in flat_bert_results_wo_sw.values()],\n",
    "    'Flat - TF-IDF': [r['p@10'] for r in flat_tfidf_results_wo_sw.values()],\n",
    "    'IVFFlat - sentenceBERT': [r['p@10'] for r in ivfflat_bert_results_wo_sw.values()],\n",
    "    'IVFFlat - TF-IDF': [r['p@10'] for r in ivfflat_tfidf_results_wo_sw.values()],\n",
    "}\n",
    "\n",
    "# transforming into dataframe\n",
    "p10_results = pd.melt(pd.DataFrame(p10_results))\n",
    "p10_results_wo_sw = pd.melt(pd.DataFrame(p10_results_wo_sw))\n",
    "\n",
    "# labeling\n",
    "p10_results['Preprocessing'] = 'no preprocessing'\n",
    "p10_results_wo_sw['Preprocessing'] = 'no stopwords'\n",
    "\n",
    "# join\n",
    "p10_results = pd.concat([p10_results, p10_results_wo_sw]).reset_index(drop=True)"
   ]
  },
  {
   "cell_type": "code",
   "execution_count": 53,
   "id": "eb333545",
   "metadata": {
    "ExecuteTime": {
     "end_time": "2022-09-28T18:06:00.572675Z",
     "start_time": "2022-09-28T18:06:00.557351Z"
    },
    "hidden": true,
    "scrolled": true
   },
   "outputs": [
    {
     "name": "stdout",
     "output_type": "stream",
     "text": [
      "-------------------------------------------------------------------------------- \n",
      "Flat - sentenceBERT\n",
      "\n",
      "Average Precision - no preprocessing: 0.491.\n",
      "Average Precision - no stopwords: 0.447.\n",
      "Absolute Diferrence: 0.044.\n",
      "p-Value: 0.268.\n",
      "-------------------------------------------------------------------------------- \n",
      "Flat - TF-IDF\n",
      "\n",
      "Average Precision - no preprocessing: 0.463.\n",
      "Average Precision - no stopwords: 0.462.\n",
      "Absolute Diferrence: 0.001.\n",
      "p-Value: 0.977.\n",
      "-------------------------------------------------------------------------------- \n",
      "IVFFlat - sentenceBERT\n",
      "\n",
      "Average Precision - no preprocessing: 0.419.\n",
      "Average Precision - no stopwords: 0.379.\n",
      "Absolute Diferrence: 0.04.\n",
      "p-Value: 0.368.\n",
      "-------------------------------------------------------------------------------- \n",
      "IVFFlat - TF-IDF\n",
      "\n",
      "Average Precision - no preprocessing: 0.382.\n",
      "Average Precision - no stopwords: 0.358.\n",
      "Absolute Diferrence: 0.024.\n",
      "p-Value: 0.567.\n"
     ]
    }
   ],
   "source": [
    "# t-test\n",
    "utils.t_test(p10_results)"
   ]
  },
  {
   "cell_type": "code",
   "execution_count": 54,
   "id": "c8ec1b3e",
   "metadata": {
    "ExecuteTime": {
     "end_time": "2022-09-28T18:06:00.718761Z",
     "start_time": "2022-09-28T18:06:00.573610Z"
    },
    "hidden": true
   },
   "outputs": [
    {
     "data": {
      "image/png": "[encoded data removed]",
      "text/plain": [
       "<Figure size 576x288 with 1 Axes>"
      ]
     },
     "metadata": {},
     "output_type": "display_data"
    }
   ],
   "source": [
    "# plotting the results\n",
    "utils.p_at(p10_results, 'P@10')"
   ]
  },
  {
   "cell_type": "markdown",
   "id": "4c8bbd2e",
   "metadata": {
    "heading_collapsed": true,
    "hidden": true
   },
   "source": [
    "## 4.6 MRR(Q)"
   ]
  },
  {
   "cell_type": "code",
   "execution_count": 55,
   "id": "4216f85a",
   "metadata": {
    "ExecuteTime": {
     "end_time": "2022-09-28T18:06:00.726299Z",
     "start_time": "2022-09-28T18:06:00.719601Z"
    },
    "hidden": true
   },
   "outputs": [],
   "source": [
    "# getting the results\n",
    "mrr_results = {\n",
    "    f'Flat - sentenceBERT [MRR: {flat_bert_mrr}]': [r['reciprocal_rank'] for r in flat_bert_results.values()],\n",
    "    f'Flat - TF-IDF [MRR: {flat_tfidf_mrr}]': [r['reciprocal_rank'] for r in flat_tfidf_results.values()],\n",
    "    f'IVFFlat - sentenceBERT [MRR: {ivfflat_bert_mrr}]': [r['reciprocal_rank'] for r in ivfflat_bert_results.values()],\n",
    "    f'IVFFlat - TF-IDF [MRR: {ivfflat_tfidf_mrr}]': [r['reciprocal_rank'] for r in ivfflat_tfidf_results.values()],\n",
    "}\n",
    "\n",
    "mrr_results_wo_sw = {\n",
    "    f'Flat - sentenceBERT [MRR: {flat_bert_mrr_wo_sw}]': [r['reciprocal_rank'] for r in flat_bert_results_wo_sw.values()],\n",
    "    f'Flat - TF-IDF [MRR: {flat_tfidf_mrr_wo_sw}]': [r['reciprocal_rank'] for r in flat_tfidf_results_wo_sw.values()],\n",
    "    f'IVFFlat - sentenceBERT [MRR: {ivfflat_bert_mrr_wo_sw}]': [r['reciprocal_rank'] for r in ivfflat_bert_results_wo_sw.values()],\n",
    "    f'IVFFlat - TF-IDF [MRR: {ivfflat_tfidf_mrr_wo_sw}]': [r['reciprocal_rank'] for r in ivfflat_tfidf_results_wo_sw.values()],\n",
    "}\n",
    "\n",
    "# transforming into datafra\n",
    "mrr_results = pd.melt(pd.DataFrame(mrr_results), var_name='Type')\n",
    "mrr_results_wo_sw = pd.melt(pd.DataFrame(mrr_results_wo_sw), var_name='Type')"
   ]
  },
  {
   "cell_type": "code",
   "execution_count": 56,
   "id": "b769504e",
   "metadata": {
    "ExecuteTime": {
     "end_time": "2022-09-28T18:06:01.015553Z",
     "start_time": "2022-09-28T18:06:00.727080Z"
    },
    "hidden": true
   },
   "outputs": [
    {
     "data": {
      "image/png": "[encoded data removed]",
      "text/plain": [
       "<Figure size 1008x288 with 2 Axes>"
      ]
     },
     "metadata": {},
     "output_type": "display_data"
    }
   ],
   "source": [
    "flat_bert_results# plotting the results\n",
    "plt.figure(figsize=(14, 4))\n",
    "\n",
    "plt.subplot(1, 2, 1)\n",
    "utils.mrr_plot(mrr_results, 'No Preprocessing')\n",
    "\n",
    "plt.subplot(1, 2, 2)\n",
    "utils.mrr_plot(mrr_results_wo_sw, 'No Stopwords')"
   ]
  },
  {
   "cell_type": "markdown",
   "id": "fd89abc4",
   "metadata": {
    "heading_collapsed": true,
    "hidden": true
   },
   "source": [
    "## 4.6 Histogram"
   ]
  },
  {
   "cell_type": "code",
   "execution_count": 57,
   "id": "4ac2c71d",
   "metadata": {
    "ExecuteTime": {
     "end_time": "2022-09-28T18:06:01.021864Z",
     "start_time": "2022-09-28T18:06:01.016650Z"
    },
    "hidden": true
   },
   "outputs": [],
   "source": [
    "# getting the results\n",
    "flat_bert_np = p_results[(p_results.variable == 'Flat - sentenceBERT') & \n",
    "                         (p_results.Preprocessing == 'no preprocessing')].value.values[:20]\n",
    "flat_tfidf_wo_sw = p_results[(p_results.variable == 'Flat - TF-IDF') & \n",
    "                             (p_results.Preprocessing == 'no stopwords')].value.values[:20]\n",
    "\n",
    "# difference\n",
    "diff = flat_bert_np - flat_tfidf_wo_sw\n",
    "\n",
    "# setting color gaph\n",
    "color = ['g' if d > 0 else 'r' for d in diff]"
   ]
  },
  {
   "cell_type": "code",
   "execution_count": 58,
   "id": "51b80880",
   "metadata": {
    "ExecuteTime": {
     "end_time": "2022-09-28T18:06:01.192473Z",
     "start_time": "2022-09-28T18:06:01.022710Z"
    },
    "hidden": true
   },
   "outputs": [
    {
     "data": {
      "image/png": "[encoded data removed]",
      "text/plain": [
       "<Figure size 432x288 with 1 Axes>"
      ]
     },
     "metadata": {},
     "output_type": "display_data"
    }
   ],
   "source": [
    "# plotting the results\n",
    "sns.barplot(np.arange(1, 21), diff, palette=color)\n",
    "plt.xlabel('Query Number'), plt.ylabel('Precision A/B')\n",
    "plt.grid(axis='y')"
   ]
  },
  {
   "cell_type": "markdown",
   "id": "4ba21c55",
   "metadata": {
    "heading_collapsed": true,
    "hidden": true
   },
   "source": [
    "## 4.7 Query Execution Time"
   ]
  },
  {
   "cell_type": "code",
   "execution_count": 59,
   "id": "9edb5453",
   "metadata": {
    "ExecuteTime": {
     "end_time": "2022-09-28T18:06:01.208715Z",
     "start_time": "2022-09-28T18:06:01.193514Z"
    },
    "hidden": true
   },
   "outputs": [
    {
     "data": {
      "text/html": [
       "<div>\n",
       "<style scoped>\n",
       "    .dataframe tbody tr th:only-of-type {\n",
       "        vertical-align: middle;\n",
       "    }\n",
       "\n",
       "    .dataframe tbody tr th {\n",
       "        vertical-align: top;\n",
       "    }\n",
       "\n",
       "    .dataframe thead th {\n",
       "        text-align: right;\n",
       "    }\n",
       "</style>\n",
       "<table border=\"1\" class=\"dataframe\">\n",
       "  <thead>\n",
       "    <tr style=\"text-align: right;\">\n",
       "      <th></th>\n",
       "      <th>Flat - sentenceBERT</th>\n",
       "      <th>Flat - TF-IDF</th>\n",
       "      <th>IVFFlat - sentenceBERT</th>\n",
       "      <th>IVFFlat - TF-IDF</th>\n",
       "      <th>Preprocessing</th>\n",
       "    </tr>\n",
       "  </thead>\n",
       "  <tbody>\n",
       "    <tr>\n",
       "      <th>0</th>\n",
       "      <td>0.073465</td>\n",
       "      <td>1.305541</td>\n",
       "      <td>0.011667</td>\n",
       "      <td>0.203289</td>\n",
       "      <td>no preprocessing</td>\n",
       "    </tr>\n",
       "    <tr>\n",
       "      <th>1</th>\n",
       "      <td>0.077388</td>\n",
       "      <td>1.279983</td>\n",
       "      <td>0.011982</td>\n",
       "      <td>0.167856</td>\n",
       "      <td>no stopwords</td>\n",
       "    </tr>\n",
       "  </tbody>\n",
       "</table>\n",
       "</div>"
      ],
      "text/plain": [
       "   Flat - sentenceBERT  Flat - TF-IDF  IVFFlat - sentenceBERT  \\\n",
       "0             0.073465       1.305541                0.011667   \n",
       "1             0.077388       1.279983                0.011982   \n",
       "\n",
       "   IVFFlat - TF-IDF     Preprocessing  \n",
       "0          0.203289  no preprocessing  \n",
       "1          0.167856      no stopwords  "
      ]
     },
     "execution_count": 59,
     "metadata": {},
     "output_type": "execute_result"
    }
   ],
   "source": [
    "# getting the precision_recall\n",
    "qet_results = {\n",
    "    'Flat - sentenceBERT': [sum([r['query_execution_time'] for r in flat_bert_results.values()])],\n",
    "    'Flat - TF-IDF': [sum([r['query_execution_time'] for r in flat_tfidf_results.values()])],\n",
    "    'IVFFlat - sentenceBERT': [sum([r['query_execution_time'] for r in ivfflat_bert_results.values()])],\n",
    "    'IVFFlat - TF-IDF': [sum([r['query_execution_time'] for r in ivfflat_tfidf_results.values()])],\n",
    "}\n",
    "\n",
    "qet_results_wo_sw = {\n",
    "    'Flat - sentenceBERT': [sum([r['query_execution_time'] for r in flat_bert_results_wo_sw.values()])],\n",
    "    'Flat - TF-IDF': [sum([r['query_execution_time'] for r in flat_tfidf_results_wo_sw.values()])],\n",
    "    'IVFFlat - sentenceBERT': [sum([r['query_execution_time'] for r in ivfflat_bert_results_wo_sw.values()])],\n",
    "    'IVFFlat - TF-IDF': [sum([r['query_execution_time'] for r in ivfflat_tfidf_results_wo_sw.values()])],\n",
    "}\n",
    "\n",
    "# transforming into dataframe\n",
    "qet_results = pd.DataFrame(qet_results)\n",
    "qet_results_wo_sw = pd.DataFrame(qet_results_wo_sw)\n",
    "\n",
    "# labeling\n",
    "qet_results['Preprocessing'] = 'no preprocessing'\n",
    "qet_results_wo_sw['Preprocessing'] = 'no stopwords'\n",
    "\n",
    "# join\n",
    "qet_results = pd.concat([qet_results, qet_results_wo_sw]).reset_index(drop=True)\n",
    "qet_results"
   ]
  }
 ],
 "metadata": {
  "hide_input": false,
  "kernelspec": {
   "display_name": "Python 3 (ipykernel)",
   "language": "python",
   "name": "python3"
  },
  "language_info": {
   "codemirror_mode": {
    "name": "ipython",
    "version": 3
   },
   "file_extension": ".py",
   "mimetype": "text/x-python",
   "name": "python",
   "nbconvert_exporter": "python",
   "pygments_lexer": "ipython3",
   "version": "3.9.7"
  }
 },
 "nbformat": 4,
 "nbformat_minor": 5
}