{
 "cells": [
  {
   "cell_type": "markdown",
   "id": "27934080",
   "metadata": {},
   "source": [
    "# 1. Preprocessing"
   ]
  },
  {
   "cell_type": "markdown",
   "id": "f1bda29f",
   "metadata": {},
   "source": [
    "In this first step, the files containing the collection documents are preprocessed. Only interest tags are kept."
   ]
  },
  {
   "cell_type": "code",
   "execution_count": 1,
   "id": "f18d1969",
   "metadata": {
    "ExecuteTime": {
     "end_time": "2022-09-25T18:58:15.166692Z",
     "start_time": "2022-09-25T18:58:14.771685Z"
    }
   },
   "outputs": [],
   "source": [
    "import os\n",
    "import re\n",
    "import json\n",
    "import utils\n",
    "\n",
    "import numpy as np\n",
    "\n",
    "from nltk.corpus import stopwords\n",
    "from nltk import word_tokenize\n",
    "\n",
    "from collections import defaultdict"
   ]
  },
  {
   "cell_type": "code",
   "execution_count": 2,
   "id": "2c468822",
   "metadata": {
    "ExecuteTime": {
     "end_time": "2022-09-25T18:58:15.169577Z",
     "start_time": "2022-09-25T18:58:15.167487Z"
    }
   },
   "outputs": [],
   "source": [
    "# listing the files\n",
    "path = '../cfc/collection/'\n",
    "files = os.listdir(path)"
   ]
  },
  {
   "cell_type": "code",
   "execution_count": 3,
   "id": "de21acb4",
   "metadata": {
    "ExecuteTime": {
     "end_time": "2022-09-25T18:58:15.174483Z",
     "start_time": "2022-09-25T18:58:15.171394Z"
    }
   },
   "outputs": [],
   "source": [
    "# interest tags\n",
    "tags = (' AU ', ' TI ', ' SO ', ' MJ ', ' MN ', ' AB ', ' EX ', ' RF ')"
   ]
  },
  {
   "cell_type": "code",
   "execution_count": 4,
   "id": "7af1ea7f",
   "metadata": {
    "ExecuteTime": {
     "end_time": "2022-09-25T18:58:15.296183Z",
     "start_time": "2022-09-25T18:58:15.175659Z"
    }
   },
   "outputs": [],
   "source": [
    "# dict to store documents\n",
    "processed = defaultdict(str)\n",
    "\n",
    "# processing the documents\n",
    "for file in files:\n",
    "    curr_file = open(f'{path}{file}', 'r').readlines()\n",
    "    \n",
    "    # joining the text and saving into the dict\n",
    "    processed = utils.split_join(file=curr_file, data=processed, tag='PN', exclude=('RN', 'AN'))\n",
    "\n",
    "# keeping only interest tags\n",
    "for doc in processed.keys():\n",
    "    \n",
    "    # spliting tags\n",
    "    processed[doc] = processed[doc].split(' RF ')[0]\n",
    "    if ' CT ' in processed[doc]:\n",
    "        processed[doc] = processed[doc].split(' CT ')[0]\n",
    "    if ' AU ' not in processed[doc]:\n",
    "        processed[doc] = processed[doc].split(' TI ')[1]\n",
    "    else:\n",
    "        processed[doc] = processed[doc].split(' AU ')[1]\n",
    "\n",
    "    # removing tag name\n",
    "    for tag in tags:\n",
    "        processed[doc] = processed[doc].replace(tag, '')\n",
    "\n",
    "    # removing multiple whitespaces\n",
    "    processed[doc] = re.sub(' +', ' ', processed[doc])"
   ]
  },
  {
   "cell_type": "code",
   "execution_count": 5,
   "id": "7ab13b8f",
   "metadata": {
    "ExecuteTime": {
     "end_time": "2022-09-25T18:58:15.299352Z",
     "start_time": "2022-09-25T18:58:15.297065Z"
    }
   },
   "outputs": [
    {
     "name": "stdout",
     "output_type": "stream",
     "text": [
      "Bohles-H. Heid-H. Stehr-K. Fekl-W.Deficiencies of essential fatty acids and vitamin E in cystic fibrosis.Z-Ernahrungswiss. 1979 Jul. 18(2). P 81-7.CYSTIC-FIBROSIS: pp. FATTY-ACIDS-ESSENTIAL: df. VITAMIN-E-DEFICIENCY: pp.ADOLESCENCE. BODY-HEIGHT. CHILD. CHILD-PRESCHOOL. CHOLESTEROL-ESTERS: bl. CYSTIC-FIBROSIS: co. FATTY-ACIDS: bl. FEMALE. HUMAN. INFANT. MALE. PHOSPHOLIPIDS: bl. TRIGLYCERIDES: bl. VITAMIN-E-DEFICIENCY: co. VITAMIN-E: bl.In 25 children (13 male; 12 female) with cystic fibrosis aged 6 months to 16 years and 24 matched controls total serum vitamin E levels and fatty acid patterns of serum cholesterol esters, phospholipids and triglycerides are demonstrated. Compared to controls (1.02 +/- 0.24 mg/dl) the total serum vitamin E levels are significantly decreased in patients with cystic fibrosis (0.30 +/- 0.26 mg/dl) (p less than 0.01). There is no significant difference comparing the fatty acid patterns of the serum ester fractions of both groups. Differences can be seen best in the cholesterol ester fraction. In this fraction linoleic acid shows a trend to be decreased in the cystic fibrosis patients compared to the control group. A possible influence of height velocity on the levels of essential fatty acids is discussed.\n"
     ]
    }
   ],
   "source": [
    "# checking the last doc\n",
    "print(processed[doc])"
   ]
  },
  {
   "cell_type": "code",
   "execution_count": 6,
   "id": "e1a23308",
   "metadata": {
    "ExecuteTime": {
     "end_time": "2022-09-25T18:58:17.211482Z",
     "start_time": "2022-09-25T18:58:15.300344Z"
    }
   },
   "outputs": [
    {
     "name": "stdout",
     "output_type": "stream",
     "text": [
      "maximum number of words: 657\n"
     ]
    },
    {
     "data": {
      "text/plain": "6"
     },
     "execution_count": 6,
     "metadata": {},
     "output_type": "execute_result"
    }
   ],
   "source": [
    "# saving the number of words in each doc\n",
    "def checking():\n",
    "    word_counter = []\n",
    "    for doc in processed.keys():\n",
    "        doc_size = len(word_tokenize(processed[doc]))\n",
    "        word_counter.append(doc_size)\n",
    "    print(f'maximum number of words: {max(word_counter)}')\n",
    "    return word_counter\n",
    "    \n",
    "# number of documents with word count greater than 512\n",
    "sum(np.array(checking()) > 512)"
   ]
  },
  {
   "cell_type": "code",
   "execution_count": 7,
   "id": "e0b095b6",
   "metadata": {
    "ExecuteTime": {
     "end_time": "2022-09-25T18:58:17.247869Z",
     "start_time": "2022-09-25T18:58:17.212502Z"
    }
   },
   "outputs": [],
   "source": [
    "# saving into json file   \n",
    "with open(\"../outputs/preprocessed.json\", \"w\") as outfile:\n",
    "    json.dump(processed, outfile)"
   ]
  },
  {
   "cell_type": "markdown",
   "id": "fe434415",
   "metadata": {},
   "source": [
    "## 1.1 Stopwords"
   ]
  },
  {
   "cell_type": "markdown",
   "id": "631ba0ad",
   "metadata": {},
   "source": [
    "Next we will remove all punctuation."
   ]
  },
  {
   "cell_type": "raw",
   "id": "9f3eb985",
   "metadata": {
    "ExecuteTime": {
     "end_time": "2022-09-08T17:07:17.831725Z",
     "start_time": "2022-09-08T17:07:17.830154Z"
    }
   },
   "source": [
    "# downloading stopwords and punctuations\n",
    "nltk.download('stopwords')"
   ]
  },
  {
   "cell_type": "code",
   "execution_count": 8,
   "id": "e79743a8",
   "metadata": {
    "ExecuteTime": {
     "end_time": "2022-09-25T18:58:17.251861Z",
     "start_time": "2022-09-25T18:58:17.249122Z"
    }
   },
   "outputs": [],
   "source": [
    "# english stopwords\n",
    "en_stopwords = set(stopwords.words('english'))"
   ]
  },
  {
   "cell_type": "code",
   "execution_count": 9,
   "id": "b5129bff",
   "metadata": {
    "ExecuteTime": {
     "end_time": "2022-09-25T18:58:19.172660Z",
     "start_time": "2022-09-25T18:58:17.253172Z"
    }
   },
   "outputs": [],
   "source": [
    "# removing stopwords\n",
    "for doc in processed.keys():\n",
    "    new_str = ''\n",
    "    for word in word_tokenize(processed[doc]):\n",
    "        if word not in en_stopwords:\n",
    "            new_str += f'{word} '\n",
    "    processed[doc] = new_str[:-1]"
   ]
  },
  {
   "cell_type": "code",
   "execution_count": 10,
   "id": "f9fc88ac",
   "metadata": {
    "ExecuteTime": {
     "end_time": "2022-09-25T18:58:20.964259Z",
     "start_time": "2022-09-25T18:58:19.173559Z"
    }
   },
   "outputs": [
    {
     "name": "stdout",
     "output_type": "stream",
     "text": [
      "maximum number of words: 444\n"
     ]
    },
    {
     "data": {
      "text/plain": "0"
     },
     "execution_count": 10,
     "metadata": {},
     "output_type": "execute_result"
    }
   ],
   "source": [
    "# number of documents with word count greater than 512\n",
    "sum(np.array(checking()) > 512)"
   ]
  },
  {
   "cell_type": "code",
   "execution_count": 11,
   "id": "b194b5cb",
   "metadata": {
    "ExecuteTime": {
     "end_time": "2022-09-25T18:58:20.986391Z",
     "start_time": "2022-09-25T18:58:20.965622Z"
    }
   },
   "outputs": [],
   "source": [
    "# saving into json file   \n",
    "with open(\"../outputs/preprocessed_wo_stopwords.json\", \"w\") as outfile:\n",
    "    json.dump(processed, outfile)"
   ]
  }
 ],
 "metadata": {
  "hide_input": false,
  "kernelspec": {
   "display_name": "Python 3 (ipykernel)",
   "language": "python",
   "name": "python3"
  },
  "language_info": {
   "codemirror_mode": {
    "name": "ipython",
    "version": 3
   },
   "file_extension": ".py",
   "mimetype": "text/x-python",
   "name": "python",
   "nbconvert_exporter": "python",
   "pygments_lexer": "ipython3",
   "version": "3.9.7"
  }
 },
 "nbformat": 4,
 "nbformat_minor": 5
}