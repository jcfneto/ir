{
 "cells": [
  {
   "cell_type": "markdown",
   "id": "d1b191b2",
   "metadata": {
    "heading_collapsed": true
   },
   "source": [
    "# 2. Embedding"
   ]
  },
  {
   "cell_type": "code",
   "execution_count": 1,
   "id": "ee9f076f",
   "metadata": {
    "ExecuteTime": {
     "end_time": "2022-09-25T19:46:19.180039Z",
     "start_time": "2022-09-25T19:46:18.171467Z"
    },
    "hidden": true
   },
   "outputs": [],
   "source": [
    "import json\n",
    "import utils\n",
    "import faiss\n",
    "\n",
    "import warnings\n",
    "warnings.filterwarnings('ignore')\n",
    "\n",
    "import numpy as np\n",
    "\n",
    "from nltk.tokenize import RegexpTokenizer\n",
    "\n",
    "from sklearn.feature_extraction.text import TfidfVectorizer\n",
    "\n",
    "from sentence_transformers import SentenceTransformer"
   ]
  },
  {
   "cell_type": "code",
   "execution_count": 2,
   "id": "91684093",
   "metadata": {
    "ExecuteTime": {
     "end_time": "2022-09-25T19:46:19.189850Z",
     "start_time": "2022-09-25T19:46:19.181431Z"
    },
    "hidden": true
   },
   "outputs": [],
   "source": [
    "# reading docs\n",
    "documents = json.load(open('outputs/preprocessed.json'))\n",
    "documents_wo_sw = json.load(open('outputs/preprocessed_wo_stopwords.json'))"
   ]
  },
  {
   "cell_type": "markdown",
   "id": "492e3086",
   "metadata": {
    "hidden": true
   },
   "source": [
    "## 2.1 TF-IDF"
   ]
  },
  {
   "cell_type": "code",
   "execution_count": 3,
   "id": "8dd66eb1",
   "metadata": {
    "ExecuteTime": {
     "end_time": "2022-09-25T19:46:19.460993Z",
     "start_time": "2022-09-25T19:46:19.190681Z"
    },
    "hidden": true
   },
   "outputs": [
    {
     "data": {
      "text/plain": "(1239, 13171)"
     },
     "execution_count": 3,
     "metadata": {},
     "output_type": "execute_result"
    }
   ],
   "source": [
    "# building word embedding based on tf-idf\n",
    "vectorizer = TfidfVectorizer(norm='l2')\n",
    "tfidf_transformer = vectorizer.fit(documents.values())\n",
    "tfidf = tfidf_transformer.transform(documents.values()).toarray()\n",
    "tfidf.shape"
   ]
  },
  {
   "cell_type": "code",
   "execution_count": 4,
   "id": "6c96f01b",
   "metadata": {
    "ExecuteTime": {
     "end_time": "2022-09-25T19:46:19.678314Z",
     "start_time": "2022-09-25T19:46:19.462103Z"
    },
    "hidden": true
   },
   "outputs": [
    {
     "data": {
      "text/plain": "(1239, 13141)"
     },
     "execution_count": 4,
     "metadata": {},
     "output_type": "execute_result"
    }
   ],
   "source": [
    "# building word embedding based on tf-idf\n",
    "vectorizer = TfidfVectorizer(norm='l2')\n",
    "tfidf_transformer_wo_sw = vectorizer.fit(documents_wo_sw.values())\n",
    "tfidf_wo_sw = tfidf_transformer_wo_sw.transform(documents_wo_sw.values()).toarray()\n",
    "tfidf_wo_sw.shape"
   ]
  },
  {
   "cell_type": "markdown",
   "id": "20627100",
   "metadata": {
    "hidden": true
   },
   "source": [
    "## 2.2 BERTsentece"
   ]
  },
  {
   "cell_type": "code",
   "execution_count": 5,
   "id": "7662811c",
   "metadata": {
    "ExecuteTime": {
     "end_time": "2022-09-25T19:46:19.958346Z",
     "start_time": "2022-09-25T19:46:19.681698Z"
    },
    "hidden": true
   },
   "outputs": [
    {
     "data": {
      "text/plain": "512"
     },
     "execution_count": 5,
     "metadata": {},
     "output_type": "execute_result"
    }
   ],
   "source": [
    "# changing the max words of the model (default == 512)\n",
    "model = SentenceTransformer('multi-qa-mpnet-base-dot-v1')\n",
    "model.max_seq_length"
   ]
  },
  {
   "cell_type": "code",
   "execution_count": 6,
   "id": "0f184e0d",
   "metadata": {
    "ExecuteTime": {
     "end_time": "2022-09-25T19:46:31.962103Z",
     "start_time": "2022-09-25T19:46:19.959971Z"
    },
    "hidden": true
   },
   "outputs": [
    {
     "data": {
      "text/plain": "((1239, 768), (1239, 768))"
     },
     "execution_count": 6,
     "metadata": {},
     "output_type": "execute_result"
    }
   ],
   "source": [
    "# building word embedding based on BERT model\n",
    "bert = model.encode(list(documents.values()))\n",
    "bert_wo_sw = model.encode(list(documents_wo_sw.values()))\n",
    "bert.shape, bert_wo_sw.shape"
   ]
  },
  {
   "cell_type": "markdown",
   "id": "8ca1539a",
   "metadata": {
    "hidden": true
   },
   "source": [
    "## 2.3 Queries"
   ]
  },
  {
   "cell_type": "code",
   "execution_count": 7,
   "id": "494cd6f7",
   "metadata": {
    "ExecuteTime": {
     "end_time": "2022-09-25T19:46:31.967387Z",
     "start_time": "2022-09-25T19:46:31.963202Z"
    },
    "hidden": true
   },
   "outputs": [],
   "source": [
    "# reading queries and rel. docs\n",
    "queries = json.load(open('outputs/queries.json'))\n",
    "queries_wo_sw = json.load(open('outputs/queries_wo_stopwords.json'))\n",
    "rel_docs = json.load(open('outputs/relevant_docs.json'))"
   ]
  },
  {
   "cell_type": "code",
   "execution_count": 8,
   "id": "971b23d1",
   "metadata": {
    "ExecuteTime": {
     "end_time": "2022-09-25T19:46:33.126782Z",
     "start_time": "2022-09-25T19:46:31.968886Z"
    },
    "hidden": true
   },
   "outputs": [],
   "source": [
    "# converting the queries\n",
    "queries = utils.convert_queries(queries, model, tfidf_transformer)\n",
    "queries_wo_sw = utils.convert_queries(queries_wo_sw, model, tfidf_transformer_wo_sw)"
   ]
  },
  {
   "cell_type": "markdown",
   "id": "c6d2c2c9",
   "metadata": {
    "heading_collapsed": true
   },
   "source": [
    "# 3. Index"
   ]
  },
  {
   "cell_type": "code",
   "execution_count": 9,
   "id": "cc58bed4",
   "metadata": {
    "ExecuteTime": {
     "end_time": "2022-09-25T19:47:01.322340Z",
     "start_time": "2022-09-25T19:47:01.318899Z"
    },
    "hidden": true
   },
   "outputs": [],
   "source": [
    "# number of documents to be returned in queries\n",
    "k = int(np.mean([len(r) for r in rel_docs.values()]))\n",
    "\n",
    "# collection and queries size\n",
    "collection_size = len(documents.values())\n",
    "n_queries = len(queries.items())\n",
    "\n",
    "# threshold for reciprocal rank\n",
    "threshold = 5"
   ]
  },
  {
   "cell_type": "code",
   "execution_count": 10,
   "id": "35399adb",
   "metadata": {
    "ExecuteTime": {
     "end_time": "2022-09-25T19:47:01.737159Z",
     "start_time": "2022-09-25T19:47:01.734026Z"
    },
    "hidden": true
   },
   "outputs": [
    {
     "data": {
      "text/plain": "(48, 1239, 100)"
     },
     "execution_count": 10,
     "metadata": {},
     "output_type": "execute_result"
    }
   ],
   "source": [
    "# checking\n",
    "k, collection_size, n_queries"
   ]
  },
  {
   "cell_type": "markdown",
   "id": "3f75027f",
   "metadata": {
    "heading_collapsed": true,
    "hidden": true
   },
   "source": [
    "## 3.1 Documents without preprocessing"
   ]
  },
  {
   "cell_type": "markdown",
   "id": "b8f77978",
   "metadata": {
    "hidden": true
   },
   "source": [
    "### 3.1.1 Flat"
   ]
  },
  {
   "cell_type": "markdown",
   "id": "b0e435a1",
   "metadata": {
    "heading_collapsed": true,
    "hidden": true
   },
   "source": [
    "#### 3.1.1.1 Bert"
   ]
  },
  {
   "cell_type": "code",
   "execution_count": 11,
   "id": "a7cd4bef",
   "metadata": {
    "ExecuteTime": {
     "end_time": "2022-09-25T19:47:09.193027Z",
     "start_time": "2022-09-25T19:47:09.182353Z"
    },
    "hidden": true
   },
   "outputs": [],
   "source": [
    "# normalizing the embeddings\n",
    "bert_normalized = bert.copy()\n",
    "faiss.normalize_L2(bert_normalized)"
   ]
  },
  {
   "cell_type": "code",
   "execution_count": 12,
   "id": "4541c4f2",
   "metadata": {
    "ExecuteTime": {
     "end_time": "2022-09-25T19:47:09.196542Z",
     "start_time": "2022-09-25T19:47:09.194177Z"
    },
    "hidden": true
   },
   "outputs": [],
   "source": [
    "# builds the index\n",
    "idx_flat_bert = utils.index_flat(bert_normalized)"
   ]
  },
  {
   "cell_type": "code",
   "execution_count": 13,
   "id": "90dcdf2e",
   "metadata": {
    "ExecuteTime": {
     "end_time": "2022-09-25T19:47:09.311417Z",
     "start_time": "2022-09-25T19:47:09.197746Z"
    },
    "hidden": true
   },
   "outputs": [
    {
     "name": "stdout",
     "output_type": "stream",
     "text": [
      "100/100\r"
     ]
    }
   ],
   "source": [
    "# doing the queries\n",
    "flat_bert_results = utils.search(idx_flat_bert, k, 'embedding', queries, rel_docs, collection_size, threshold)"
   ]
  },
  {
   "cell_type": "code",
   "execution_count": 14,
   "id": "2c5a6d04",
   "metadata": {
    "ExecuteTime": {
     "end_time": "2022-09-25T19:47:09.315444Z",
     "start_time": "2022-09-25T19:47:09.312523Z"
    },
    "hidden": true
   },
   "outputs": [
    {
     "data": {
      "text/plain": "1.32"
     },
     "execution_count": 14,
     "metadata": {},
     "output_type": "execute_result"
    }
   ],
   "source": [
    "# computing MRR\n",
    "flat_bert_mrr = utils.mean_reciprocal_rank(flat_bert_results)\n",
    "flat_bert_mrr"
   ]
  },
  {
   "cell_type": "markdown",
   "id": "2acd5d99",
   "metadata": {
    "heading_collapsed": true,
    "hidden": true
   },
   "source": [
    "#### 3.1.1.2 TF-IDF"
   ]
  },
  {
   "cell_type": "code",
   "execution_count": 15,
   "id": "ed6d6d20",
   "metadata": {
    "ExecuteTime": {
     "end_time": "2022-09-25T19:47:09.354447Z",
     "start_time": "2022-09-25T19:47:09.316213Z"
    },
    "hidden": true
   },
   "outputs": [],
   "source": [
    "# builds the index\n",
    "idx_flat_tfidf = utils.index_flat(tfidf.astype(np.float32))"
   ]
  },
  {
   "cell_type": "code",
   "execution_count": 16,
   "id": "85126488",
   "metadata": {
    "ExecuteTime": {
     "end_time": "2022-09-25T19:47:10.730800Z",
     "start_time": "2022-09-25T19:47:09.355297Z"
    },
    "hidden": true
   },
   "outputs": [
    {
     "name": "stdout",
     "output_type": "stream",
     "text": [
      "100/100\r"
     ]
    }
   ],
   "source": [
    "# doing the queries\n",
    "flat_tfidf_results = utils.search(idx_flat_tfidf, k, 'tf-idf', queries, rel_docs, collection_size, threshold)"
   ]
  },
  {
   "cell_type": "code",
   "execution_count": 17,
   "id": "4016f463",
   "metadata": {
    "ExecuteTime": {
     "end_time": "2022-09-25T19:47:10.734896Z",
     "start_time": "2022-09-25T19:47:10.731671Z"
    },
    "hidden": true
   },
   "outputs": [
    {
     "data": {
      "text/plain": "1.35"
     },
     "execution_count": 17,
     "metadata": {},
     "output_type": "execute_result"
    }
   ],
   "source": [
    "# computing MRR\n",
    "flat_tfidf_mrr = utils.mean_reciprocal_rank(flat_tfidf_results)\n",
    "flat_tfidf_mrr"
   ]
  },
  {
   "cell_type": "markdown",
   "id": "defd1fb4",
   "metadata": {
    "hidden": true
   },
   "source": [
    "### 3.1.2 IVFFlat"
   ]
  },
  {
   "cell_type": "markdown",
   "id": "da7d35b6",
   "metadata": {
    "heading_collapsed": true,
    "hidden": true
   },
   "source": [
    "#### 3.1.2.1 Bert"
   ]
  },
  {
   "cell_type": "code",
   "execution_count": 18,
   "id": "699fe2b3",
   "metadata": {
    "ExecuteTime": {
     "end_time": "2022-09-25T19:47:10.763986Z",
     "start_time": "2022-09-25T19:47:10.736279Z"
    },
    "hidden": true
   },
   "outputs": [
    {
     "data": {
      "text/plain": "(True, 1239)"
     },
     "execution_count": 18,
     "metadata": {},
     "output_type": "execute_result"
    }
   ],
   "source": [
    "nlist = 10\n",
    "idx_ivfflat_bert = utils.index_ivfflat(bert_normalized, nlist)\n",
    "idx_ivfflat_bert.is_trained, idx_ivfflat_bert.ntotal"
   ]
  },
  {
   "cell_type": "code",
   "execution_count": 19,
   "id": "b2b5669c",
   "metadata": {
    "ExecuteTime": {
     "end_time": "2022-09-25T19:47:10.850845Z",
     "start_time": "2022-09-25T19:47:10.765418Z"
    },
    "hidden": true
   },
   "outputs": [
    {
     "name": "stdout",
     "output_type": "stream",
     "text": [
      "100/100\r"
     ]
    }
   ],
   "source": [
    "# doing the queries\n",
    "ivfflat_bert_results = utils.search(idx_ivfflat_bert, k, 'embedding', queries, \n",
    "                                    rel_docs, collection_size, threshold)"
   ]
  },
  {
   "cell_type": "code",
   "execution_count": 20,
   "id": "70e78813",
   "metadata": {
    "ExecuteTime": {
     "end_time": "2022-09-25T19:47:10.854908Z",
     "start_time": "2022-09-25T19:47:10.851771Z"
    },
    "hidden": true
   },
   "outputs": [
    {
     "data": {
      "text/plain": "1.11"
     },
     "execution_count": 20,
     "metadata": {},
     "output_type": "execute_result"
    }
   ],
   "source": [
    "# computing MRR\n",
    "ivfflat_bert_mrr = utils.mean_reciprocal_rank(ivfflat_bert_results)\n",
    "ivfflat_bert_mrr"
   ]
  },
  {
   "cell_type": "markdown",
   "id": "68e1ad2b",
   "metadata": {
    "heading_collapsed": true,
    "hidden": true
   },
   "source": [
    "#### 3.1.2.2 TF-IDF"
   ]
  },
  {
   "cell_type": "code",
   "execution_count": 21,
   "id": "4684bcc1",
   "metadata": {
    "ExecuteTime": {
     "end_time": "2022-09-25T19:47:11.150599Z",
     "start_time": "2022-09-25T19:47:10.855763Z"
    },
    "hidden": true
   },
   "outputs": [],
   "source": [
    "# builds the index\n",
    "idx_flat_tfidf = utils.index_ivfflat(tfidf.astype(np.float32), nlist)"
   ]
  },
  {
   "cell_type": "code",
   "execution_count": 22,
   "id": "51c33a70",
   "metadata": {
    "ExecuteTime": {
     "end_time": "2022-09-25T19:47:11.431952Z",
     "start_time": "2022-09-25T19:47:11.151446Z"
    },
    "hidden": true
   },
   "outputs": [
    {
     "name": "stdout",
     "output_type": "stream",
     "text": [
      "100/100\r"
     ]
    }
   ],
   "source": [
    "# doind the queries\n",
    "ivfflat_tfidf_results = utils.search(idx_flat_tfidf, k, 'tf-idf', queries, \n",
    "                                     rel_docs, collection_size, threshold)"
   ]
  },
  {
   "cell_type": "code",
   "execution_count": 23,
   "id": "f08ffc49",
   "metadata": {
    "ExecuteTime": {
     "end_time": "2022-09-25T19:47:11.435802Z",
     "start_time": "2022-09-25T19:47:11.432970Z"
    },
    "hidden": true
   },
   "outputs": [
    {
     "data": {
      "text/plain": "1.2"
     },
     "execution_count": 23,
     "metadata": {},
     "output_type": "execute_result"
    }
   ],
   "source": [
    "# computing MRR\n",
    "ivfflat_tfidf_mrr = utils.mean_reciprocal_rank(ivfflat_tfidf_results)\n",
    "ivfflat_tfidf_mrr"
   ]
  },
  {
   "cell_type": "markdown",
   "id": "2edff7e7",
   "metadata": {
    "heading_collapsed": true,
    "hidden": true
   },
   "source": [
    "## 3.2 Documents without stopwords"
   ]
  },
  {
   "cell_type": "markdown",
   "id": "6f42438a",
   "metadata": {
    "hidden": true
   },
   "source": [
    "### 3.2.1 Flat"
   ]
  },
  {
   "cell_type": "markdown",
   "id": "c0a08dfc",
   "metadata": {
    "heading_collapsed": true,
    "hidden": true
   },
   "source": [
    "#### 3.2.1.1 Bert"
   ]
  },
  {
   "cell_type": "code",
   "execution_count": 24,
   "id": "121a7cfe",
   "metadata": {
    "ExecuteTime": {
     "end_time": "2022-09-25T19:47:51.804300Z",
     "start_time": "2022-09-25T19:47:51.791818Z"
    },
    "hidden": true
   },
   "outputs": [],
   "source": [
    "# normalizing the embeddings\n",
    "bert_normalized_wo_sw = bert_wo_sw.copy()\n",
    "faiss.normalize_L2(bert_normalized_wo_sw)"
   ]
  },
  {
   "cell_type": "code",
   "execution_count": 25,
   "id": "f6ea0617",
   "metadata": {
    "ExecuteTime": {
     "end_time": "2022-09-25T19:48:17.123405Z",
     "start_time": "2022-09-25T19:48:17.120437Z"
    },
    "hidden": true
   },
   "outputs": [],
   "source": [
    "# builds the index\n",
    "idx_flat_bert_wo_sw = utils.index_flat(bert_normalized_wo_sw)"
   ]
  },
  {
   "cell_type": "code",
   "execution_count": 26,
   "id": "d195b83a",
   "metadata": {
    "ExecuteTime": {
     "end_time": "2022-09-25T19:48:18.224540Z",
     "start_time": "2022-09-25T19:48:18.111946Z"
    },
    "hidden": true
   },
   "outputs": [
    {
     "name": "stdout",
     "output_type": "stream",
     "text": [
      "100/100\r"
     ]
    }
   ],
   "source": [
    "# doing the queries\n",
    "flat_bert_results_wo_sw = utils.search(idx_flat_bert_wo_sw, k, 'embedding', \n",
    "                                       queries_wo_sw, rel_docs, collection_size, \n",
    "                                       threshold)"
   ]
  },
  {
   "cell_type": "code",
   "execution_count": 27,
   "id": "64776cd6",
   "metadata": {
    "ExecuteTime": {
     "end_time": "2022-09-25T19:48:24.893167Z",
     "start_time": "2022-09-25T19:48:24.888949Z"
    },
    "hidden": true
   },
   "outputs": [
    {
     "data": {
      "text/plain": "1.35"
     },
     "execution_count": 27,
     "metadata": {},
     "output_type": "execute_result"
    }
   ],
   "source": [
    "# computing MRR\n",
    "flat_bert_mrr_wo_sw = utils.mean_reciprocal_rank(flat_bert_results_wo_sw)\n",
    "flat_bert_mrr_wo_sw"
   ]
  },
  {
   "cell_type": "markdown",
   "id": "3b8eab9e",
   "metadata": {
    "heading_collapsed": true,
    "hidden": true
   },
   "source": [
    "#### 3.2.1.2 TF-IDF"
   ]
  },
  {
   "cell_type": "code",
   "execution_count": 28,
   "id": "15c1d905",
   "metadata": {
    "ExecuteTime": {
     "end_time": "2022-09-25T19:49:49.646923Z",
     "start_time": "2022-09-25T19:49:49.610983Z"
    },
    "hidden": true
   },
   "outputs": [],
   "source": [
    "# builds the index\n",
    "idx_flat_tfidf_wo_sw = utils.index_flat(tfidf_wo_sw.astype(np.float32))"
   ]
  },
  {
   "cell_type": "code",
   "execution_count": 29,
   "id": "3cd84964",
   "metadata": {
    "ExecuteTime": {
     "end_time": "2022-09-25T19:49:51.576611Z",
     "start_time": "2022-09-25T19:49:50.226630Z"
    },
    "hidden": true
   },
   "outputs": [
    {
     "name": "stdout",
     "output_type": "stream",
     "text": [
      "100/100\r"
     ]
    }
   ],
   "source": [
    "# doing the queries\n",
    "flat_tfidf_results_wo_sw = utils.search(idx_flat_tfidf_wo_sw, k, 'tf-idf', \n",
    "                                        queries_wo_sw, rel_docs, collection_size, \n",
    "                                        threshold)"
   ]
  },
  {
   "cell_type": "code",
   "execution_count": 30,
   "id": "0302e837",
   "metadata": {
    "ExecuteTime": {
     "end_time": "2022-09-25T19:49:52.471833Z",
     "start_time": "2022-09-25T19:49:52.467953Z"
    },
    "hidden": true
   },
   "outputs": [
    {
     "data": {
      "text/plain": "1.42"
     },
     "execution_count": 30,
     "metadata": {},
     "output_type": "execute_result"
    }
   ],
   "source": [
    "# computing MRR\n",
    "flat_tfidf_mrr_wo_sw = utils.mean_reciprocal_rank(flat_tfidf_results_wo_sw)\n",
    "flat_tfidf_mrr_wo_sw"
   ]
  },
  {
   "cell_type": "markdown",
   "id": "d7e324d9",
   "metadata": {
    "hidden": true
   },
   "source": [
    "### 3.2.2 IVFFlat"
   ]
  },
  {
   "cell_type": "markdown",
   "id": "c20cbfd8",
   "metadata": {
    "heading_collapsed": true,
    "hidden": true
   },
   "source": [
    "#### 3.2.2.1 Bert"
   ]
  },
  {
   "cell_type": "code",
   "execution_count": 31,
   "id": "df26ee78",
   "metadata": {
    "ExecuteTime": {
     "end_time": "2022-09-25T19:51:17.224217Z",
     "start_time": "2022-09-25T19:51:17.181517Z"
    },
    "hidden": true
   },
   "outputs": [
    {
     "data": {
      "text/plain": "(True, 1239)"
     },
     "execution_count": 31,
     "metadata": {},
     "output_type": "execute_result"
    }
   ],
   "source": [
    "idx_ivfflat_bert_wo_sw = utils.index_ivfflat(bert_normalized_wo_sw, nlist)\n",
    "idx_ivfflat_bert_wo_sw.is_trained, idx_ivfflat_bert_wo_sw.ntotal"
   ]
  },
  {
   "cell_type": "code",
   "execution_count": 32,
   "id": "e1a97d1d",
   "metadata": {
    "ExecuteTime": {
     "end_time": "2022-09-25T19:51:40.827210Z",
     "start_time": "2022-09-25T19:51:40.742316Z"
    },
    "hidden": true
   },
   "outputs": [
    {
     "name": "stdout",
     "output_type": "stream",
     "text": [
      "100/100\r"
     ]
    }
   ],
   "source": [
    "# doing the queries\n",
    "ivfflat_bert_results_wo_sw = utils.search(idx_ivfflat_bert_wo_sw, k, 'embedding', \n",
    "                                          queries_wo_sw, rel_docs, collection_size, \n",
    "                                          threshold)"
   ]
  },
  {
   "cell_type": "code",
   "execution_count": 33,
   "id": "d29e4baa",
   "metadata": {
    "ExecuteTime": {
     "end_time": "2022-09-25T19:51:48.474156Z",
     "start_time": "2022-09-25T19:51:48.470563Z"
    },
    "hidden": true
   },
   "outputs": [
    {
     "data": {
      "text/plain": "1.21"
     },
     "execution_count": 33,
     "metadata": {},
     "output_type": "execute_result"
    }
   ],
   "source": [
    "# computing MRR\n",
    "ivfflat_bert_mrr_wo_sw = utils.mean_reciprocal_rank(ivfflat_bert_results_wo_sw)\n",
    "ivfflat_bert_mrr_wo_sw"
   ]
  },
  {
   "cell_type": "markdown",
   "id": "2fe6350b",
   "metadata": {
    "heading_collapsed": true,
    "hidden": true
   },
   "source": [
    "#### 3.2.2.2 TF-IDF"
   ]
  },
  {
   "cell_type": "code",
   "execution_count": 34,
   "id": "7ff9e258",
   "metadata": {
    "ExecuteTime": {
     "end_time": "2022-09-25T19:52:39.785091Z",
     "start_time": "2022-09-25T19:52:39.536623Z"
    },
    "hidden": true
   },
   "outputs": [],
   "source": [
    "# builds the index\n",
    "idx_flat_tfidf_wo_sw = utils.index_ivfflat(tfidf_wo_sw.astype(np.float32), nlist)"
   ]
  },
  {
   "cell_type": "code",
   "execution_count": 35,
   "id": "b5fac544",
   "metadata": {
    "ExecuteTime": {
     "end_time": "2022-09-25T19:52:40.965768Z",
     "start_time": "2022-09-25T19:52:40.711961Z"
    },
    "hidden": true
   },
   "outputs": [
    {
     "name": "stdout",
     "output_type": "stream",
     "text": [
      "100/100\r"
     ]
    }
   ],
   "source": [
    "# doind the queries\n",
    "ivfflat_tfidf_results_wo_sw = utils.search(idx_flat_tfidf_wo_sw, k, 'tf-idf', \n",
    "                                           queries_wo_sw, rel_docs, collection_size, \n",
    "                                           threshold)"
   ]
  },
  {
   "cell_type": "code",
   "execution_count": 36,
   "id": "5f1ee0fe",
   "metadata": {
    "ExecuteTime": {
     "end_time": "2022-09-25T19:52:43.379706Z",
     "start_time": "2022-09-25T19:52:43.376114Z"
    },
    "hidden": true
   },
   "outputs": [
    {
     "data": {
      "text/plain": "1.15"
     },
     "execution_count": 36,
     "metadata": {},
     "output_type": "execute_result"
    }
   ],
   "source": [
    "# computing MRR\n",
    "ivfflat_tfidf_mrr_wo_sw = utils.mean_reciprocal_rank(ivfflat_tfidf_results_wo_sw)\n",
    "ivfflat_tfidf_mrr_wo_sw"
   ]
  },
  {
   "cell_type": "markdown",
   "id": "72c4e41e",
   "metadata": {
    "heading_collapsed": true
   },
   "source": [
    "# 4. Evaluate"
   ]
  },
  {
   "cell_type": "code",
   "execution_count": 37,
   "id": "625801bb",
   "metadata": {
    "ExecuteTime": {
     "end_time": "2022-09-25T19:53:07.166330Z",
     "start_time": "2022-09-25T19:53:06.184956Z"
    },
    "hidden": true
   },
   "outputs": [],
   "source": [
    "import pandas as pd\n",
    "import seaborn as sns\n",
    "import matplotlib.pyplot as plt\n",
    "\n",
    "sns.set_theme(style='white')"
   ]
  },
  {
   "cell_type": "code",
   "execution_count": 38,
   "id": "6a11f211",
   "metadata": {
    "ExecuteTime": {
     "end_time": "2022-09-25T19:53:07.174104Z",
     "start_time": "2022-09-25T19:53:07.167631Z"
    },
    "hidden": true
   },
   "outputs": [],
   "source": [
    "# recall\n",
    "recall = np.arange(0, 1.1, 0.1)"
   ]
  },
  {
   "cell_type": "markdown",
   "id": "227e32d6",
   "metadata": {
    "heading_collapsed": true,
    "hidden": true
   },
   "source": [
    "## 4.1 Precision"
   ]
  },
  {
   "cell_type": "code",
   "execution_count": 39,
   "id": "136eef62",
   "metadata": {
    "ExecuteTime": {
     "end_time": "2022-09-25T20:14:59.331052Z",
     "start_time": "2022-09-25T20:14:59.320372Z"
    },
    "hidden": true
   },
   "outputs": [],
   "source": [
    "# getting the precision_recall\n",
    "p_results = {\n",
    "    'Flat - sentenceBERT': [r['precision'] for r in flat_bert_results.values()],\n",
    "    'Flat - TF-IDF': [r['precision'] for r in flat_tfidf_results.values()],\n",
    "    'IVFFlat - sentenceBERT': [r['precision'] for r in ivfflat_bert_results.values()],\n",
    "    'IVFFlat - TF-IDF': [r['precision'] for r in ivfflat_tfidf_results.values()],\n",
    "}\n",
    "\n",
    "p_results_wo_sw = {\n",
    "    'Flat - sentenceBERT': [r['precision'] for r in flat_bert_results_wo_sw.values()],\n",
    "    'Flat - TF-IDF': [r['precision'] for r in flat_tfidf_results_wo_sw.values()],\n",
    "    'IVFFlat - sentenceBERT': [r['precision'] for r in ivfflat_bert_results_wo_sw.values()],\n",
    "    'IVFFlat - TF-IDF': [r['precision'] for r in ivfflat_tfidf_results_wo_sw.values()],\n",
    "}\n",
    "\n",
    "# transforming into dataframe\n",
    "p_results = pd.melt(pd.DataFrame(p_results))\n",
    "p_results_wo_sw = pd.melt(pd.DataFrame(p_results_wo_sw))\n",
    "\n",
    "# labeling\n",
    "p_results['Preprocessing'] = 'no preprocessing'\n",
    "p_results_wo_sw['Preprocessing'] = 'no stopwords'\n",
    "\n",
    "# join\n",
    "p_results = pd.concat([p_results, p_results_wo_sw]).reset_index(drop=True)"
   ]
  },
  {
   "cell_type": "code",
   "execution_count": 40,
   "id": "99d72d7f",
   "metadata": {
    "ExecuteTime": {
     "end_time": "2022-09-25T20:15:57.965260Z",
     "start_time": "2022-09-25T20:15:57.818602Z"
    },
    "hidden": true
   },
   "outputs": [
    {
     "data": {
      "text/plain": "<Figure size 432x288 with 1 Axes>",
      "image/png": "[encoded data removed]"
     },
     "metadata": {},
     "output_type": "display_data"
    }
   ],
   "source": [
    "# plotting the results\n",
    "plt.figure(figsize=(6, 4))\n",
    "sns.boxplot(y='variable', x='value', orient='h', hue='Preprocessing', linewidth=1, data=p_results)\n",
    "plt.legend(bbox_to_anchor=(1.02, 1), loc='upper left', borderaxespad=0)\n",
    "plt.xlabel('Precision'), plt.ylabel('')\n",
    "plt.show()"
   ]
  },
  {
   "cell_type": "markdown",
   "id": "fc04023c",
   "metadata": {
    "heading_collapsed": true,
    "hidden": true
   },
   "source": [
    "## 4.2 Recall"
   ]
  },
  {
   "cell_type": "code",
   "execution_count": 41,
   "id": "4c9be9d8",
   "metadata": {
    "ExecuteTime": {
     "end_time": "2022-09-25T20:17:51.192317Z",
     "start_time": "2022-09-25T20:17:51.180580Z"
    },
    "hidden": true
   },
   "outputs": [],
   "source": [
    "# getting the precision_recall\n",
    "r_results = {\n",
    "    'Flat - sentenceBERT': [r['recall'] for r in flat_bert_results.values()],\n",
    "    'Flat - TF-IDF': [r['recall'] for r in flat_tfidf_results.values()],\n",
    "    'IVFFlat - sentenceBERT': [r['recall'] for r in ivfflat_bert_results.values()],\n",
    "    'IVFFlat - TF-IDF': [r['recall'] for r in ivfflat_tfidf_results.values()],\n",
    "}\n",
    "\n",
    "r_results_wo_sw = {\n",
    "    'Flat - sentenceBERT': [r['recall'] for r in flat_bert_results_wo_sw.values()],\n",
    "    'Flat - TF-IDF': [r['recall'] for r in flat_tfidf_results_wo_sw.values()],\n",
    "    'IVFFlat - sentenceBERT': [r['recall'] for r in ivfflat_bert_results_wo_sw.values()],\n",
    "    'IVFFlat - TF-IDF': [r['recall'] for r in ivfflat_tfidf_results_wo_sw.values()],\n",
    "}\n",
    "\n",
    "# transforming into dataframe\n",
    "r_results = pd.melt(pd.DataFrame(r_results))\n",
    "r_results_wo_sw = pd.melt(pd.DataFrame(r_results_wo_sw))\n",
    "\n",
    "# labeling\n",
    "r_results['Preprocessing'] = 'no preprocessing'\n",
    "r_results_wo_sw['Preprocessing'] = 'no stopwords'\n",
    "\n",
    "# join\n",
    "r_results = pd.concat([r_results, r_results_wo_sw]).reset_index(drop=True)"
   ]
  },
  {
   "cell_type": "code",
   "execution_count": 42,
   "id": "2ea2683a",
   "metadata": {
    "ExecuteTime": {
     "end_time": "2022-09-25T20:18:05.830583Z",
     "start_time": "2022-09-25T20:18:05.685190Z"
    },
    "hidden": true
   },
   "outputs": [
    {
     "data": {
      "text/plain": "<Figure size 432x288 with 1 Axes>",
      "image/png": "[encoded data removed]"
     },
     "metadata": {},
     "output_type": "display_data"
    }
   ],
   "source": [
    "# plotting the results\n",
    "plt.figure(figsize=(6, 4))\n",
    "sns.boxplot(y='variable', x='value', orient='h', hue='Preprocessing', linewidth=1, data=r_results)\n",
    "plt.legend(bbox_to_anchor=(1.02, 1), loc='upper left', borderaxespad=0)\n",
    "plt.xlabel('Recall'), plt.ylabel('')\n",
    "plt.show()"
   ]
  },
  {
   "cell_type": "markdown",
   "id": "2ce32ca2",
   "metadata": {
    "heading_collapsed": true,
    "hidden": true
   },
   "source": [
    "## 4.3 The 11 Standard Recall Levels"
   ]
  },
  {
   "cell_type": "code",
   "execution_count": 43,
   "id": "e8522acd",
   "metadata": {
    "ExecuteTime": {
     "end_time": "2022-09-25T20:27:06.018957Z",
     "start_time": "2022-09-25T20:27:06.011442Z"
    },
    "hidden": true
   },
   "outputs": [],
   "source": [
    "# getting the precision_recall\n",
    "p_r_results = {\n",
    "    'Flat - sentenceBERT': np.mean([r['precision_recall'][:, 1] for r in flat_bert_results.values()], axis=0),\n",
    "    'Flat - TF-IDF': np.mean([r['precision_recall'][:, 1] for r in flat_tfidf_results.values()], axis=0),\n",
    "    'IVFFlat - sentenceBERT': np.mean([r['precision_recall'][:, 1] for r in ivfflat_bert_results.values()], axis=0),\n",
    "    'IVFFlat - TF-IDF': np.mean([r['precision_recall'][:, 1] for r in ivfflat_tfidf_results.values()], axis=0),\n",
    "}\n",
    "\n",
    "p_r_results_wo_sw = {\n",
    "    'Flat - sentenceBERT': np.mean([r['precision_recall'][:, 1] for r in flat_bert_results_wo_sw.values()], axis=0),\n",
    "    'Flat - TF-IDF': np.mean([r['precision_recall'][:, 1] for r in flat_tfidf_results_wo_sw.values()], axis=0),\n",
    "    'IVFFlat - sentenceBERT': np.mean([r['precision_recall'][:, 1] for r in ivfflat_bert_results_wo_sw.values()], axis=0),\n",
    "    'IVFFlat - TF-IDF': np.mean([r['precision_recall'][:, 1] for r in ivfflat_tfidf_results_wo_sw.values()], axis=0),\n",
    "}"
   ]
  },
  {
   "cell_type": "code",
   "execution_count": 44,
   "id": "f8c05b4f",
   "metadata": {
    "ExecuteTime": {
     "end_time": "2022-09-25T20:31:49.408481Z",
     "start_time": "2022-09-25T20:31:49.121984Z"
    },
    "hidden": true
   },
   "outputs": [
    {
     "data": {
      "text/plain": "<Figure size 864x288 with 2 Axes>",
      "image/png": "[encoded data removed]"
     },
     "metadata": {},
     "output_type": "display_data"
    }
   ],
   "source": [
    "# Precision-Recall Curve\n",
    "plt.figure(figsize=(12, 4))\n",
    "\n",
    "plt.subplot(1, 2, 1)\n",
    "utils.plot_recall_levels(p_r_results, 'No Preprocessing')\n",
    "\n",
    "plt.subplot(1, 2, 2)\n",
    "utils.plot_recall_levels(p_r_results_wo_sw, 'No Stopwords')"
   ]
  },
  {
   "cell_type": "markdown",
   "id": "cd5d5fd7",
   "metadata": {
    "heading_collapsed": true,
    "hidden": true
   },
   "source": [
    "## 4.4 P@5"
   ]
  },
  {
   "cell_type": "code",
   "execution_count": 45,
   "id": "69623072",
   "metadata": {
    "ExecuteTime": {
     "end_time": "2022-09-25T20:41:52.642730Z",
     "start_time": "2022-09-25T20:41:52.631279Z"
    },
    "hidden": true
   },
   "outputs": [],
   "source": [
    "# getting the p@5 and p@10\n",
    "p5_results = {\n",
    "    'Flat - sentenceBERT': [r['p@5'] for r in flat_bert_results.values()],\n",
    "    'Flat - TF-IDF': [r['p@5'] for r in flat_tfidf_results.values()],\n",
    "    'IVFFlat - sentenceBERT': [r['p@5'] for r in ivfflat_bert_results.values()],\n",
    "    'IVFFlat - TF-IDF': [r['p@5'] for r in ivfflat_tfidf_results.values()],\n",
    "}\n",
    "\n",
    "p5_results_wo_sw = {\n",
    "    'Flat - sentenceBERT': [r['p@5'] for r in flat_bert_results_wo_sw.values()],\n",
    "    'Flat - TF-IDF': [r['p@5'] for r in flat_tfidf_results_wo_sw.values()],\n",
    "    'IVFFlat - sentenceBERT': [r['p@5'] for r in ivfflat_bert_results_wo_sw.values()],\n",
    "    'IVFFlat - TF-IDF': [r['p@5'] for r in ivfflat_tfidf_results_wo_sw.values()],\n",
    "}\n",
    "\n",
    "# transforming into dataframe\n",
    "p5_results = pd.melt(pd.DataFrame(p5_results))\n",
    "p5_results_wo_sw = pd.melt(pd.DataFrame(p5_results_wo_sw))\n",
    "\n",
    "# labeling\n",
    "p5_results['Preprocessing'] = 'no preprocessing'\n",
    "p5_results_wo_sw['Preprocessing'] = 'no stopwords'\n",
    "\n",
    "# join\n",
    "p5_results = pd.concat([p5_results, p5_results_wo_sw]).reset_index(drop=True)"
   ]
  },
  {
   "cell_type": "code",
   "execution_count": 46,
   "id": "a7ea25b5",
   "metadata": {
    "ExecuteTime": {
     "end_time": "2022-09-25T20:48:18.654046Z",
     "start_time": "2022-09-25T20:48:18.503767Z"
    },
    "hidden": true
   },
   "outputs": [
    {
     "data": {
      "text/plain": "<Figure size 576x288 with 1 Axes>",
      "image/png": "[encoded data removed]"
     },
     "metadata": {},
     "output_type": "display_data"
    }
   ],
   "source": [
    "# plotting the results\n",
    "utils.p_at(p5_results, 'P@5')"
   ]
  },
  {
   "cell_type": "markdown",
   "id": "bb637245",
   "metadata": {
    "heading_collapsed": true,
    "hidden": true
   },
   "source": [
    "## 4.5 P@10"
   ]
  },
  {
   "cell_type": "code",
   "execution_count": 47,
   "id": "114cca80",
   "metadata": {
    "ExecuteTime": {
     "end_time": "2022-09-25T20:52:17.374843Z",
     "start_time": "2022-09-25T20:52:17.363598Z"
    },
    "hidden": true
   },
   "outputs": [],
   "source": [
    "# getting the p@5 and p@10\n",
    "p10_results = {\n",
    "    'Flat - sentenceBERT': [r['p@10'] for r in flat_bert_results.values()],\n",
    "    'Flat - TF-IDF': [r['p@10'] for r in flat_tfidf_results.values()],\n",
    "    'IVFFlat - sentenceBERT': [r['p@10'] for r in ivfflat_bert_results.values()],\n",
    "    'IVFFlat - TF-IDF': [r['p@10'] for r in ivfflat_tfidf_results.values()],\n",
    "}\n",
    "\n",
    "p10_results_wo_sw = {\n",
    "    'Flat - sentenceBERT': [r['p@10'] for r in flat_bert_results_wo_sw.values()],\n",
    "    'Flat - TF-IDF': [r['p@10'] for r in flat_tfidf_results_wo_sw.values()],\n",
    "    'IVFFlat - sentenceBERT': [r['p@10'] for r in ivfflat_bert_results_wo_sw.values()],\n",
    "    'IVFFlat - TF-IDF': [r['p@10'] for r in ivfflat_tfidf_results_wo_sw.values()],\n",
    "}\n",
    "\n",
    "# transforming into dataframe\n",
    "p10_results = pd.melt(pd.DataFrame(p10_results))\n",
    "p10_results_wo_sw = pd.melt(pd.DataFrame(p10_results_wo_sw))\n",
    "\n",
    "# labeling\n",
    "p10_results['Preprocessing'] = 'no preprocessing'\n",
    "p10_results_wo_sw['Preprocessing'] = 'no stopwords'\n",
    "\n",
    "# join\n",
    "p10_results = pd.concat([p10_results, p10_results_wo_sw]).reset_index(drop=True)"
   ]
  },
  {
   "cell_type": "code",
   "execution_count": 48,
   "id": "c8ec1b3e",
   "metadata": {
    "ExecuteTime": {
     "end_time": "2022-09-25T20:52:38.707125Z",
     "start_time": "2022-09-25T20:52:38.563258Z"
    },
    "hidden": true
   },
   "outputs": [
    {
     "data": {
      "text/plain": "<Figure size 576x288 with 1 Axes>",
      "image/png": "[encoded data removed]"
     },
     "metadata": {},
     "output_type": "display_data"
    }
   ],
   "source": [
    "# plotting the results\n",
    "utils.p_at(p10_results, 'P@10')"
   ]
  },
  {
   "cell_type": "markdown",
   "id": "4c8bbd2e",
   "metadata": {
    "heading_collapsed": true,
    "hidden": true
   },
   "source": [
    "## 4.6 MRR(Q)"
   ]
  },
  {
   "cell_type": "code",
   "execution_count": 49,
   "id": "4216f85a",
   "metadata": {
    "ExecuteTime": {
     "end_time": "2022-09-25T21:07:54.092421Z",
     "start_time": "2022-09-25T21:07:54.080511Z"
    },
    "hidden": true
   },
   "outputs": [],
   "source": [
    "# getting the results\n",
    "mrr_results = {\n",
    "    f'Flat - sentenceBERT [MRR: {flat_bert_mrr}]': [r['reciprocal_rank'] for r in flat_bert_results.values()],\n",
    "    f'Flat - TF-IDF [MRR: {flat_tfidf_mrr}]': [r['reciprocal_rank'] for r in flat_tfidf_results.values()],\n",
    "    f'IVFFlat - sentenceBERT [MRR: {ivfflat_bert_mrr}]': [r['reciprocal_rank'] for r in ivfflat_bert_results.values()],\n",
    "    f'IVFFlat - TF-IDF [MRR: {ivfflat_tfidf_mrr}]': [r['reciprocal_rank'] for r in ivfflat_tfidf_results.values()],\n",
    "}\n",
    "\n",
    "mrr_results_wo_sw = {\n",
    "    f'Flat - sentenceBERT [MRR: {flat_bert_mrr_wo_sw}]': [r['reciprocal_rank'] for r in flat_bert_results_wo_sw.values()],\n",
    "    f'Flat - TF-IDF [MRR: {flat_tfidf_mrr_wo_sw}]': [r['reciprocal_rank'] for r in flat_tfidf_results_wo_sw.values()],\n",
    "    f'IVFFlat - sentenceBERT [MRR: {ivfflat_bert_mrr_wo_sw}]': [r['reciprocal_rank'] for r in ivfflat_bert_results_wo_sw.values()],\n",
    "    f'IVFFlat - TF-IDF [MRR: {ivfflat_tfidf_mrr_wo_sw}]': [r['reciprocal_rank'] for r in ivfflat_tfidf_results_wo_sw.values()],\n",
    "}\n",
    "\n",
    "# transforming into datafra\n",
    "mrr_results = pd.melt(pd.DataFrame(mrr_results), var_name='Type')\n",
    "mrr_results_wo_sw = pd.melt(pd.DataFrame(mrr_results_wo_sw), var_name='Type')"
   ]
  },
  {
   "cell_type": "code",
   "execution_count": 50,
   "id": "b769504e",
   "metadata": {
    "ExecuteTime": {
     "end_time": "2022-09-25T21:09:52.030276Z",
     "start_time": "2022-09-25T21:09:51.757625Z"
    },
    "hidden": true
   },
   "outputs": [
    {
     "data": {
      "text/plain": "<Figure size 1008x288 with 2 Axes>",
      "image/png": "[encoded data removed]"
     },
     "metadata": {},
     "output_type": "display_data"
    }
   ],
   "source": [
    "# plotting the results\n",
    "plt.figure(figsize=(14, 4))\n",
    "\n",
    "plt.subplot(1, 2, 1)\n",
    "utils.mrr_plot(mrr_results, 'No Preprocessing')\n",
    "\n",
    "plt.subplot(1, 2, 2)\n",
    "utils.mrr_plot(mrr_results_wo_sw, 'No Stopwords')"
   ]
  },
  {
   "cell_type": "markdown",
   "id": "fd89abc4",
   "metadata": {
    "heading_collapsed": true,
    "hidden": true
   },
   "source": [
    "## 4.6 Histogram"
   ]
  },
  {
   "cell_type": "code",
   "execution_count": 51,
   "id": "83df3165",
   "metadata": {
    "ExecuteTime": {
     "end_time": "2022-09-25T21:11:48.414583Z",
     "start_time": "2022-09-25T21:11:48.411372Z"
    },
    "hidden": true
   },
   "outputs": [],
   "source": [
    "p1 = []\n",
    "p2 = []\n",
    "for k, _ in ivfflat_bert_results.items():\n",
    "    p1.append(ivfflat_tfidf_results[k]['precision'])\n",
    "    p2.append(ivfflat_bert_results[k]['precision'])"
   ]
  },
  {
   "cell_type": "code",
   "execution_count": 52,
   "id": "e594f672",
   "metadata": {
    "ExecuteTime": {
     "end_time": "2022-09-25T21:11:48.717020Z",
     "start_time": "2022-09-25T21:11:48.714334Z"
    },
    "hidden": true
   },
   "outputs": [],
   "source": [
    "p1 = np.array(p1)\n",
    "p2 = np.array(p2)"
   ]
  },
  {
   "cell_type": "code",
   "execution_count": 53,
   "id": "dd04945d",
   "metadata": {
    "ExecuteTime": {
     "end_time": "2022-09-25T21:11:49.269612Z",
     "start_time": "2022-09-25T21:11:49.266947Z"
    },
    "hidden": true
   },
   "outputs": [],
   "source": [
    "import matplotlib.pyplot as plt"
   ]
  },
  {
   "cell_type": "code",
   "execution_count": 54,
   "id": "6dc2c359",
   "metadata": {
    "ExecuteTime": {
     "end_time": "2022-09-25T21:11:49.637451Z",
     "start_time": "2022-09-25T21:11:49.633498Z"
    },
    "hidden": true
   },
   "outputs": [
    {
     "data": {
      "text/plain": "array([ 0.        ,  0.0625    , -0.25      ,  0.02083333,  0.25      ,\n       -0.02083333, -0.1875    , -0.0625    , -0.08333333, -0.02083333])"
     },
     "execution_count": 54,
     "metadata": {},
     "output_type": "execute_result"
    }
   ],
   "source": [
    "p = p1 - p2\n",
    "p[:10]"
   ]
  },
  {
   "cell_type": "code",
   "execution_count": 55,
   "id": "e7856dd3",
   "metadata": {
    "ExecuteTime": {
     "end_time": "2022-09-25T21:11:50.127279Z",
     "start_time": "2022-09-25T21:11:49.961823Z"
    },
    "hidden": true
   },
   "outputs": [
    {
     "data": {
      "text/plain": "<Figure size 432x288 with 1 Axes>",
      "image/png": "[encoded data removed]"
     },
     "metadata": {},
     "output_type": "display_data"
    }
   ],
   "source": [
    "fig, ax = plt.subplots()\n",
    "ax.bar(np.arange(1, 21), p[:20])\n",
    "ax.set_xticks([i for i in np.arange(1, 21)])\n",
    "plt.grid(axis='y')\n",
    "plt.show()"
   ]
  },
  {
   "cell_type": "code",
   "execution_count": 55,
   "id": "9ddf9eb4",
   "metadata": {
    "hidden": true
   },
   "outputs": [],
   "source": []
  }
 ],
 "metadata": {
  "hide_input": false,
  "kernelspec": {
   "display_name": "Python 3 (ipykernel)",
   "language": "python",
   "name": "python3"
  },
  "language_info": {
   "codemirror_mode": {
    "name": "ipython",
    "version": 3
   },
   "file_extension": ".py",
   "mimetype": "text/x-python",
   "name": "python",
   "nbconvert_exporter": "python",
   "pygments_lexer": "ipython3",
   "version": "3.9.7"
  }
 },
 "nbformat": 4,
 "nbformat_minor": 5
}